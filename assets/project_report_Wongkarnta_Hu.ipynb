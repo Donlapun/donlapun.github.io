{
 "cells": [
  {
   "cell_type": "markdown",
   "metadata": {},
   "source": [
    "# STAT207 Final Project - Prediction of Sale Price of Residential Homes in Ames, Iowa. \n",
    "\n",
    "Donlapun Wongkarnta & Yunfan Hu. "
   ]
  },
  {
   "cell_type": "markdown",
   "metadata": {},
   "source": [
    "## 1. Introduction"
   ]
  },
  {
   "cell_type": "markdown",
   "metadata": {},
   "source": [
    "### Motivation\n",
    "\n",
    "\n",
    "Supoosed that you are a residential house hunter who finds a house for client that just move to Ames, Iowa. Normally, you client usually have specific preference towards a residential home and the preferred price they want. Many customers usually request a house with central air coniditoning. Therefore, You want to know more how the residential house market in Ames, Iowa is like before you promote houses to your customers. \n",
    "\n",
    "\n",
    "In this project, we will be looking at the Ames, Iwoa Housing Dataset (ames.csv). This dataset a (assume random) sample of residential home sales in Ames, Iowa between 2006 to 2010 and properties about the homes and the sale. It contains both numerical and categorical variables. Specifically, we will looking at the following variables:\n",
    "\n",
    "- Mo_Sold:  Month Sold \n",
    "- price: Sale Price (US dollars)\n",
    "- Yr_Sold: Year Sold\n",
    "- Year_Built: Year Built\n",
    "- Overall_Qual: Rates the overall material and finish of the house [1,10] (10 is best)\n",
    "- Sale_Condition: Condition of sale\n",
    "    - Normal\tNormal Sale\n",
    "    - Abnorml\tAbnormal Sale -  trade, foreclosure, short sale\n",
    "    - AdjLand\tAdjoining Land Purchase\n",
    "    - Alloca\tAllocation - two linked properties with separate deeds, typically condo with a garage unit\t\n",
    "    - Family\tSale between family members\n",
    "    - Partial\tHome was not completed when last assessed (associated with New Homes)\n",
    "- Central_Air: Central air conditioning (Yes/No)\n",
    "- Garage_Area: Size of garage (square feet)"
   ]
  },
  {
   "cell_type": "markdown",
   "metadata": {},
   "source": [
    "### Research Questions:\n",
    "With this dataset, we will try to answer these questions:\n",
    "\n",
    "1. What is the relationship between the Month Sold(Mo_Sold) and the Sale Price(price) in this Ames, Iwoa Housing Dataset(ames.csv)? And furthermore, how does this relationship between the Month Sold(Mo_Sold) and the Sale Price(price) change for different values of Overall Quality(Overall_Qual)?\n",
    "    - We will use the desciptive analytics including visualization(histogram, boxplot, etc) and summary statistics(measure of Center, measure of spread) to help answer this question. This question can help us determine as the house hunter to suggest the customers when to buy the houses according to the customers' budget.\n",
    "    \n",
    "        \n",
    "2. Is there an association between the Central air condition(Central_Air) and the Year Built(Year_Built) in all residential homes in Ames, Iwoa?\n",
    "    - We will conduct an Analysis of Variance (NOVA) Hypothesis to see if there is a different average year built of central air condition. The answer from this question will help us learn more and infer about the relationship between Central air condition(Central_Air) and the Year Built(Year_Built) in all residential homes in Ames, Iwoa. As the house hunter, you might be able to get the idea whether the house would have the central air conditioning based on thethe year it is built.\n",
    "    \n",
    "    \n",
    "3. Is there a linear relationship between the Sale Price(price) and the Overall Quality(Overall_Qual), the Condition of sale (Sale_Condition), the Central air condition(Central_Air), and the Year Built(Year_Built) in the sample? What about in the all residential homes in Ames, Iwoa?\n",
    "    - We will use the Linear Regression Model to find the linear relationship between responsive variable and explanatory variables. Find the regression model will help us know whether the variables we are considering is likely to fit with the actual outcomes of the Sale Price. As the house hunter, you would be able to predict the sale price of the house which have these factors involved, espeically from the customers' request and use this prediction to give suggestions to the customers.\n",
    "    \n",
    "    \n",
    "4. Is there a linear relationship between the log-odds of the success level of the Central air condition(Central_Air) and the Year Built(Year_Built), the Size of Garage(Garage_Area), the Year Sold(Yr_Sold), and the Sale Price(price) in the sample? What about the all residential homes in Ames, Iwoa? What explanatory variables should we include in the model to build a parsimonious model?\n",
    "    - We will use the logistic regression to find the answer this question. Finding the explanatory variables will help us get the parsimonious model that not overfitted or underfitted the data. AS the house hunter, you can use this model to predict whether the house has the central air conditioning or not with the new dataset you receive from the market or house provider and gives reccommendations to customers based on this prediction."
   ]
  },
  {
   "cell_type": "code",
   "execution_count": 1,
   "metadata": {},
   "outputs": [],
   "source": [
    "#Imports\n",
    "import pandas as pd\n",
    "import numpy as np\n",
    "import matplotlib.pyplot as plt\n",
    "import seaborn as sns; sns.set()\n",
    "\n",
    "import statsmodels.api as sm\n",
    "import statsmodels.formula.api as smf\n",
    "\n",
    "from sklearn.metrics import confusion_matrix, roc_curve, roc_auc_score\n",
    "from sklearn.model_selection import train_test_split\n",
    "from scipy.stats import t"
   ]
  },
  {
   "cell_type": "code",
   "execution_count": 2,
   "metadata": {},
   "outputs": [
    {
     "data": {
      "text/html": [
       "<div>\n",
       "<style scoped>\n",
       "    .dataframe tbody tr th:only-of-type {\n",
       "        vertical-align: middle;\n",
       "    }\n",
       "\n",
       "    .dataframe tbody tr th {\n",
       "        vertical-align: top;\n",
       "    }\n",
       "\n",
       "    .dataframe thead th {\n",
       "        text-align: right;\n",
       "    }\n",
       "</style>\n",
       "<table border=\"1\" class=\"dataframe\">\n",
       "  <thead>\n",
       "    <tr style=\"text-align: right;\">\n",
       "      <th></th>\n",
       "      <th>Order</th>\n",
       "      <th>PID</th>\n",
       "      <th>area</th>\n",
       "      <th>price</th>\n",
       "      <th>MS.SubClass</th>\n",
       "      <th>MS.Zoning</th>\n",
       "      <th>Lot.Frontage</th>\n",
       "      <th>Lot.Area</th>\n",
       "      <th>Street</th>\n",
       "      <th>Alley</th>\n",
       "      <th>...</th>\n",
       "      <th>Screen.Porch</th>\n",
       "      <th>Pool.Area</th>\n",
       "      <th>Pool.QC</th>\n",
       "      <th>Fence</th>\n",
       "      <th>Misc.Feature</th>\n",
       "      <th>Misc.Val</th>\n",
       "      <th>Mo_Sold</th>\n",
       "      <th>Yr_Sold</th>\n",
       "      <th>Sale.Type</th>\n",
       "      <th>Sale_Condition</th>\n",
       "    </tr>\n",
       "  </thead>\n",
       "  <tbody>\n",
       "    <tr>\n",
       "      <th>0</th>\n",
       "      <td>1</td>\n",
       "      <td>526301100</td>\n",
       "      <td>1656</td>\n",
       "      <td>215000</td>\n",
       "      <td>20</td>\n",
       "      <td>RL</td>\n",
       "      <td>141.0</td>\n",
       "      <td>31770</td>\n",
       "      <td>Pave</td>\n",
       "      <td>NaN</td>\n",
       "      <td>...</td>\n",
       "      <td>0</td>\n",
       "      <td>0</td>\n",
       "      <td>NaN</td>\n",
       "      <td>NaN</td>\n",
       "      <td>NaN</td>\n",
       "      <td>0</td>\n",
       "      <td>5</td>\n",
       "      <td>2010</td>\n",
       "      <td>WD</td>\n",
       "      <td>Normal</td>\n",
       "    </tr>\n",
       "    <tr>\n",
       "      <th>1</th>\n",
       "      <td>2</td>\n",
       "      <td>526350040</td>\n",
       "      <td>896</td>\n",
       "      <td>105000</td>\n",
       "      <td>20</td>\n",
       "      <td>RH</td>\n",
       "      <td>80.0</td>\n",
       "      <td>11622</td>\n",
       "      <td>Pave</td>\n",
       "      <td>NaN</td>\n",
       "      <td>...</td>\n",
       "      <td>120</td>\n",
       "      <td>0</td>\n",
       "      <td>NaN</td>\n",
       "      <td>MnPrv</td>\n",
       "      <td>NaN</td>\n",
       "      <td>0</td>\n",
       "      <td>6</td>\n",
       "      <td>2010</td>\n",
       "      <td>WD</td>\n",
       "      <td>Normal</td>\n",
       "    </tr>\n",
       "    <tr>\n",
       "      <th>2</th>\n",
       "      <td>3</td>\n",
       "      <td>526351010</td>\n",
       "      <td>1329</td>\n",
       "      <td>172000</td>\n",
       "      <td>20</td>\n",
       "      <td>RL</td>\n",
       "      <td>81.0</td>\n",
       "      <td>14267</td>\n",
       "      <td>Pave</td>\n",
       "      <td>NaN</td>\n",
       "      <td>...</td>\n",
       "      <td>0</td>\n",
       "      <td>0</td>\n",
       "      <td>NaN</td>\n",
       "      <td>NaN</td>\n",
       "      <td>Gar2</td>\n",
       "      <td>12500</td>\n",
       "      <td>6</td>\n",
       "      <td>2010</td>\n",
       "      <td>WD</td>\n",
       "      <td>Normal</td>\n",
       "    </tr>\n",
       "    <tr>\n",
       "      <th>3</th>\n",
       "      <td>4</td>\n",
       "      <td>526353030</td>\n",
       "      <td>2110</td>\n",
       "      <td>244000</td>\n",
       "      <td>20</td>\n",
       "      <td>RL</td>\n",
       "      <td>93.0</td>\n",
       "      <td>11160</td>\n",
       "      <td>Pave</td>\n",
       "      <td>NaN</td>\n",
       "      <td>...</td>\n",
       "      <td>0</td>\n",
       "      <td>0</td>\n",
       "      <td>NaN</td>\n",
       "      <td>NaN</td>\n",
       "      <td>NaN</td>\n",
       "      <td>0</td>\n",
       "      <td>4</td>\n",
       "      <td>2010</td>\n",
       "      <td>WD</td>\n",
       "      <td>Normal</td>\n",
       "    </tr>\n",
       "    <tr>\n",
       "      <th>4</th>\n",
       "      <td>5</td>\n",
       "      <td>527105010</td>\n",
       "      <td>1629</td>\n",
       "      <td>189900</td>\n",
       "      <td>60</td>\n",
       "      <td>RL</td>\n",
       "      <td>74.0</td>\n",
       "      <td>13830</td>\n",
       "      <td>Pave</td>\n",
       "      <td>NaN</td>\n",
       "      <td>...</td>\n",
       "      <td>0</td>\n",
       "      <td>0</td>\n",
       "      <td>NaN</td>\n",
       "      <td>MnPrv</td>\n",
       "      <td>NaN</td>\n",
       "      <td>0</td>\n",
       "      <td>3</td>\n",
       "      <td>2010</td>\n",
       "      <td>WD</td>\n",
       "      <td>Normal</td>\n",
       "    </tr>\n",
       "  </tbody>\n",
       "</table>\n",
       "<p>5 rows × 82 columns</p>\n",
       "</div>"
      ],
      "text/plain": [
       "   Order        PID  area   price  MS.SubClass MS.Zoning  Lot.Frontage  \\\n",
       "0      1  526301100  1656  215000           20        RL         141.0   \n",
       "1      2  526350040   896  105000           20        RH          80.0   \n",
       "2      3  526351010  1329  172000           20        RL          81.0   \n",
       "3      4  526353030  2110  244000           20        RL          93.0   \n",
       "4      5  527105010  1629  189900           60        RL          74.0   \n",
       "\n",
       "   Lot.Area Street Alley  ... Screen.Porch Pool.Area Pool.QC  Fence  \\\n",
       "0     31770   Pave   NaN  ...            0         0     NaN    NaN   \n",
       "1     11622   Pave   NaN  ...          120         0     NaN  MnPrv   \n",
       "2     14267   Pave   NaN  ...            0         0     NaN    NaN   \n",
       "3     11160   Pave   NaN  ...            0         0     NaN    NaN   \n",
       "4     13830   Pave   NaN  ...            0         0     NaN  MnPrv   \n",
       "\n",
       "  Misc.Feature Misc.Val Mo_Sold Yr_Sold Sale.Type Sale_Condition  \n",
       "0          NaN        0       5    2010       WD          Normal  \n",
       "1          NaN        0       6    2010       WD          Normal  \n",
       "2         Gar2    12500       6    2010       WD          Normal  \n",
       "3          NaN        0       4    2010       WD          Normal  \n",
       "4          NaN        0       3    2010       WD          Normal  \n",
       "\n",
       "[5 rows x 82 columns]"
      ]
     },
     "execution_count": 2,
     "metadata": {},
     "output_type": "execute_result"
    }
   ],
   "source": [
    "#Read the ames.csv file into dataframe(df)\n",
    "df = pd.read_csv(\"ames.csv\")\n",
    "df.head()"
   ]
  },
  {
   "cell_type": "code",
   "execution_count": 3,
   "metadata": {},
   "outputs": [
    {
     "data": {
      "text/plain": [
       "(2930, 8)"
      ]
     },
     "execution_count": 3,
     "metadata": {},
     "output_type": "execute_result"
    }
   ],
   "source": [
    "#Set the new dataframe(df_new) that consists of interested variables\n",
    "df_new = df[['Mo_Sold', 'price', 'Yr_Sold', 'Year_Built', 'Overall_Qual', 'Sale_Condition', 'Central_Air', 'Garage_Area']]\n",
    "df_new.head()\n",
    "df_new.shape"
   ]
  },
  {
   "cell_type": "code",
   "execution_count": 4,
   "metadata": {},
   "outputs": [
    {
     "data": {
      "text/plain": [
       "Mo_Sold             int64\n",
       "price               int64\n",
       "Yr_Sold             int64\n",
       "Year_Built          int64\n",
       "Overall_Qual        int64\n",
       "Sale_Condition     object\n",
       "Central_Air        object\n",
       "Garage_Area       float64\n",
       "dtype: object"
      ]
     },
     "execution_count": 4,
     "metadata": {},
     "output_type": "execute_result"
    }
   ],
   "source": [
    "#Data Cleansing\n",
    "#Checking the datatype\n",
    "df_new.dtypes"
   ]
  },
  {
   "cell_type": "code",
   "execution_count": 5,
   "metadata": {},
   "outputs": [
    {
     "data": {
      "text/plain": [
       "Mo_Sold           0\n",
       "price             0\n",
       "Yr_Sold           0\n",
       "Year_Built        0\n",
       "Overall_Qual      0\n",
       "Sale_Condition    0\n",
       "Central_Air       0\n",
       "Garage_Area       1\n",
       "dtype: int64"
      ]
     },
     "execution_count": 5,
     "metadata": {},
     "output_type": "execute_result"
    }
   ],
   "source": [
    "#Checking for Nan values\n",
    "df_new.isna().sum()"
   ]
  },
  {
   "cell_type": "code",
   "execution_count": 6,
   "metadata": {
    "scrolled": false
   },
   "outputs": [
    {
     "data": {
      "text/plain": [
       "array([ 528.,  730.,  312.,  522.,  482.,  470.,  582.,  506.,  608.,\n",
       "        442.,  440.,  420.,  393.,  841.,  492.,  834.,  400.,  500.,\n",
       "        546.,  663.,  480.,  304.,  525.,    0.,  511.,  264.,  320.,\n",
       "        308.,  751.,  772.,  606.,  868.,  532.,  678.,  820.,  484.,\n",
       "        958.,  756.,  576.,  474.,  430.,  437.,  433.,  434.,  779.,\n",
       "        962.,  527.,  712.,  671.,  486.,  666.,  880.,  676.,  614.,\n",
       "        750.,  618.,  463.,  462.,  457.,  476.,  429.,  539.,  336.,\n",
       "        280.,  260.,  461.,  564.,  762.,  713.,  588.,  496.,  852.,\n",
       "        592.,  475.,  596.,  535.,  660.,  441.,  490.,  504.,  517.,\n",
       "        240.,  364.,  244.,  315.,  578.,  620.,  447.,  294.,  531.,\n",
       "        263.,  318.,  305.,  246.,  392.,  330.,  720.,  360.,  551.,\n",
       "        379.,  220.,  780.,  288.,  416.,  624.,  923.,  560.,  363.,\n",
       "        200.,  572.,  180.,  516.,  672.,  349.,  365.,  231.,  450.,\n",
       "        270.,  299.,  591.,  533.,  690.,  436.,  586.,  366.,  467.,\n",
       "        209.,  460., 1017.,  574.,  776.,  632.,  740.,  615.,  594.,\n",
       "        580.,  513.,  523.,  850.,  670.,  613.,  621.,  598.,  502.,\n",
       "        494.,  319.,  352.,  216.,  399.,  252.,  567.,  473.,  625.,\n",
       "        384.,  741.,  573.,  888.,  520.,  680.,  510.,  431.,  746.,\n",
       "        686.,  286.,  253.,  495.,  616.,  275.,  538.,  390.,  758.,\n",
       "        499.,  396.,  427.,  380.,  409.,  389.,  343.,  565., 1166.,\n",
       "        435.,  544.,  529.,  479.,  542.,  478.,  581.,  552.,  583.,\n",
       "        902.,  477.,  345.,  656.,  786.,  754.,  840.,  890., 1390.,\n",
       "        864.,  836.,  896.,  900.,  842., 1020.,  932.,  640.,  908.,\n",
       "        927.,  856.,  700.,  738.,  862.,  644.,  968.,  886.,  871.,\n",
       "        626.,  949.,  685.,  649.,  701.,  550.,  397.,  432.,  554.,\n",
       "        394.,  658.,  410.,  810., 1069.,  889.,  815.,  647.,  623.,\n",
       "        711.,  898.,  972.,  726.,  844.,  689.,  795.,  984.,  692.,\n",
       "        812.,  782., 1043.,  438.,  628.,  845.,  555.,  788.,  559.,\n",
       "        465.,  612.,  732.,  300.,  524.,  704.,  561.,  641.,  642.,\n",
       "        540.,  784.,  497.,  515.,  630.,  498.,  768.,  472.,  610.,\n",
       "        549.,  645.,  368.,  505.,  418.,  338.,  271.,  792.,  530.,\n",
       "        514.,  509.,  297.,  350.,  884.,  230.,  281.,  907.,  483.,\n",
       "        210.,  162.,  324.,  256.,  273.,  287.,  357.,  424.,  456.,\n",
       "        207.,  192.,  250., 1184.,  164.,  316.,  226.,  668.,  452.,\n",
       "        284.,  303.,  340.,  234.,  290.,  266.,  296.,  425.,  466.,\n",
       "       1138.,  826.,  860.,  846.,  904.,  702.,  662.,  569.,  577.,\n",
       "        493.,  622.,  605.,  444.,  600., 1231.,  570.,  736.,  521.,\n",
       "        512.,  451.,  195.,  313.,  342.,  215.,  282.,  213.,  307.,\n",
       "        186.,  295.,  501.,  468.,  189.,  351.,  541.,  912.,  650.,\n",
       "        885.,  471.,  765.,  920.,  412.,  402.,  602.,  698.,  714.,\n",
       "        601.,  386.,  404.,  406.,  682.,  683.,  557.,  619.,  489.,\n",
       "       1314.,  439.,  787.,  774., 1220.,  858.,  905.,  866.,  706.,\n",
       "       1150., 1003.,  789.,  870., 1052.,  944.,  388.,  428.,  398.,\n",
       "        403.,  696.,  687.,  938.,  839.,  983.,  783.,  691.,  830.,\n",
       "        824.,  851.,  603.,  648.,  936.,  562.,  673.,  575.,  627.,\n",
       "        276.,  636.,  545.,  469.,  464.,  831.,  267.,  283.,  205.,\n",
       "        377.,  292.,  458.,  301., 1488.,  372.,  401.,  414.,  311.,\n",
       "        225.,  828.,  869.,  370.,  208.,  160.,  355.,  228.,  322.,\n",
       "        408.,  354.,  249.,  534.,  453., 1348.,  874.,  811.,  558.,\n",
       "        328.,  725.,  715.,  543.,  595.,  508.,  721.,  548.,  814.,\n",
       "       1418.,  369.,  599.,  344., 1014.,  924.,  356.,  487.,  185.,\n",
       "       1248.,  857.,  816.,  358.,  665.,  800.,  749.,  892.,  257.,\n",
       "        423.,  526.,  373.,  729., 1110.,  556.,  724.,  481.,  585.,\n",
       "        488.,  684.,  367.,  818.,  928., 1040.,  878.,  947.,  895.,\n",
       "        694., 1174.,  728.,  843.,  916.,  872.,  876.,  631.,  617.,\n",
       "        454.,  813.,  925.,  804.,  806.,  832.,  455.,  752.,  933.,\n",
       "       1092.,  865.,  954.,  825.,  859.,  590., 1025.,  744.,  566.,\n",
       "        518.,  611., 1105.,  571.,  309.,  306.,  310.,  293.,  371.,\n",
       "       1200.,  254.,  184.,  374.,  331.,  224.,  217.,  261.,  323.,\n",
       "        638.,  739.,  332.,  719.,  833.,  894.,  796.,  674.,  747.,\n",
       "        242.,  597.,  748.,  639.,  579., 1154.,  248.,   nan,  100.,\n",
       "        722.,  422.,  808.,  995., 1041., 1356.,  963.,  443.,  413.,\n",
       "        773.,  675.,  716.,  604.,  485.,  770., 1085.,  853.,  708.,\n",
       "        753.,  899.,  426.,  807.,  959.,  803.,  760., 1134.,  584.,\n",
       "       1053.,  449.,  688.,  757.,  326.,  568.,  353.,  791., 1008.,\n",
       "        378.,  258.,  255.,  198.,  459.,  667.,  445.,  325.,  848.,\n",
       "        317.,  646.,  265.,  609.,  375.,  272.,  327.,  766.,  693.,\n",
       "        405.])"
      ]
     },
     "execution_count": 6,
     "metadata": {},
     "output_type": "execute_result"
    }
   ],
   "source": [
    "df_new['Garage_Area'].unique()"
   ]
  },
  {
   "cell_type": "code",
   "execution_count": 7,
   "metadata": {},
   "outputs": [
    {
     "data": {
      "text/html": [
       "<div>\n",
       "<style scoped>\n",
       "    .dataframe tbody tr th:only-of-type {\n",
       "        vertical-align: middle;\n",
       "    }\n",
       "\n",
       "    .dataframe tbody tr th {\n",
       "        vertical-align: top;\n",
       "    }\n",
       "\n",
       "    .dataframe thead th {\n",
       "        text-align: right;\n",
       "    }\n",
       "</style>\n",
       "<table border=\"1\" class=\"dataframe\">\n",
       "  <thead>\n",
       "    <tr style=\"text-align: right;\">\n",
       "      <th></th>\n",
       "      <th>Mo_Sold</th>\n",
       "      <th>price</th>\n",
       "      <th>Yr_Sold</th>\n",
       "      <th>Year_Built</th>\n",
       "      <th>Overall_Qual</th>\n",
       "      <th>Sale_Condition</th>\n",
       "      <th>Central_Air</th>\n",
       "      <th>Garage_Area</th>\n",
       "    </tr>\n",
       "  </thead>\n",
       "  <tbody>\n",
       "    <tr>\n",
       "      <th>0</th>\n",
       "      <td>5</td>\n",
       "      <td>215000</td>\n",
       "      <td>2010</td>\n",
       "      <td>1960</td>\n",
       "      <td>6</td>\n",
       "      <td>Normal</td>\n",
       "      <td>Y</td>\n",
       "      <td>528.0</td>\n",
       "    </tr>\n",
       "    <tr>\n",
       "      <th>1</th>\n",
       "      <td>6</td>\n",
       "      <td>105000</td>\n",
       "      <td>2010</td>\n",
       "      <td>1961</td>\n",
       "      <td>5</td>\n",
       "      <td>Normal</td>\n",
       "      <td>Y</td>\n",
       "      <td>730.0</td>\n",
       "    </tr>\n",
       "    <tr>\n",
       "      <th>2</th>\n",
       "      <td>6</td>\n",
       "      <td>172000</td>\n",
       "      <td>2010</td>\n",
       "      <td>1958</td>\n",
       "      <td>6</td>\n",
       "      <td>Normal</td>\n",
       "      <td>Y</td>\n",
       "      <td>312.0</td>\n",
       "    </tr>\n",
       "    <tr>\n",
       "      <th>3</th>\n",
       "      <td>4</td>\n",
       "      <td>244000</td>\n",
       "      <td>2010</td>\n",
       "      <td>1968</td>\n",
       "      <td>7</td>\n",
       "      <td>Normal</td>\n",
       "      <td>Y</td>\n",
       "      <td>522.0</td>\n",
       "    </tr>\n",
       "    <tr>\n",
       "      <th>4</th>\n",
       "      <td>3</td>\n",
       "      <td>189900</td>\n",
       "      <td>2010</td>\n",
       "      <td>1997</td>\n",
       "      <td>5</td>\n",
       "      <td>Normal</td>\n",
       "      <td>Y</td>\n",
       "      <td>482.0</td>\n",
       "    </tr>\n",
       "  </tbody>\n",
       "</table>\n",
       "</div>"
      ],
      "text/plain": [
       "   Mo_Sold   price  Yr_Sold  Year_Built  Overall_Qual Sale_Condition  \\\n",
       "0        5  215000     2010        1960             6         Normal   \n",
       "1        6  105000     2010        1961             5         Normal   \n",
       "2        6  172000     2010        1958             6         Normal   \n",
       "3        4  244000     2010        1968             7         Normal   \n",
       "4        3  189900     2010        1997             5         Normal   \n",
       "\n",
       "  Central_Air  Garage_Area  \n",
       "0           Y        528.0  \n",
       "1           Y        730.0  \n",
       "2           Y        312.0  \n",
       "3           Y        522.0  \n",
       "4           Y        482.0  "
      ]
     },
     "execution_count": 7,
     "metadata": {},
     "output_type": "execute_result"
    }
   ],
   "source": [
    "df_new.head()"
   ]
  },
  {
   "cell_type": "code",
   "execution_count": 8,
   "metadata": {},
   "outputs": [
    {
     "data": {
      "text/plain": [
       "(2929, 8)"
      ]
     },
     "execution_count": 8,
     "metadata": {},
     "output_type": "execute_result"
    }
   ],
   "source": [
    "#Drop row(s) with Nan values\n",
    "#Final cleaned Dataframe (df_new)\n",
    "df_new = df_new.dropna()\n",
    "df_new.shape"
   ]
  },
  {
   "cell_type": "markdown",
   "metadata": {},
   "source": [
    "## 2. Descriptive Analytics"
   ]
  },
  {
   "cell_type": "markdown",
   "metadata": {},
   "source": [
    "**Research Question**: What is the relationship between the Month Sold(Mo_Sold) and the Sale Price(price) in this Ames, Iwoa Housing Dataset(ames.csv)? And furthermore, how does this relationship between the Month Sold(Mo_Sold) and the Sale Price(price) change for different values of Overall Quality(Overall_Qual)?"
   ]
  },
  {
   "cell_type": "markdown",
   "metadata": {},
   "source": [
    "Firstly, we visualize the relationship between month the house sold(Mo_Sold) and the sale price(price)."
   ]
  },
  {
   "cell_type": "code",
   "execution_count": 9,
   "metadata": {
    "scrolled": false
   },
   "outputs": [
    {
     "data": {
      "image/png": "[encoded data removed]",
      "text/plain": [
       "<Figure size 432x288 with 1 Axes>"
      ]
     },
     "metadata": {},
     "output_type": "display_data"
    }
   ],
   "source": [
    "sns.boxplot(x = \"Mo_Sold\", y = 'price', data = df_new)\n",
    "plt.title('Relationship between month sold and price')\n",
    "plt.show()"
   ]
  },
  {
   "cell_type": "markdown",
   "metadata": {},
   "source": [
    "1. <u>Compare Measures of Center</u>: The median price does not change a lot through the entire year.\n",
    "\n",
    "2. <u>Compare Outliers</u>: all months have outliers. These outliers are high."
   ]
  },
  {
   "cell_type": "code",
   "execution_count": 10,
   "metadata": {},
   "outputs": [
    {
     "data": {
      "image/png": "[encoded data removed]",
      "text/plain": [
       "<Figure size 432x288 with 1 Axes>"
      ]
     },
     "metadata": {},
     "output_type": "display_data"
    }
   ],
   "source": [
    "#Visualize the relationship between Overall Quality of the house(Overall_Qual) and the sale price(price)\n",
    "sns.boxplot(x = \"Overall_Qual\", y = \"price\", data = df_new)\n",
    "plt.title(\"Relationship between the overall quality and price\")\n",
    "plt.show()"
   ]
  },
  {
   "cell_type": "markdown",
   "metadata": {},
   "source": [
    "1. <u>Compare Measures of Center</u>: The median price is higher as quality level is higher."
   ]
  },
  {
   "cell_type": "code",
   "execution_count": 11,
   "metadata": {},
   "outputs": [
    {
     "data": {
      "image/png": "[encoded data removed]",
      "text/plain": [
       "<Figure size 438.8x360 with 1 Axes>"
      ]
     },
     "metadata": {},
     "output_type": "display_data"
    }
   ],
   "source": [
    "sns.lmplot(x = \"Mo_Sold\", y = \"price\", hue = \"Overall_Qual\", data = df_new)\n",
    "plt.title('Relationship between pric, month sold, and its overall quality')\n",
    "plt.legend(bbox_to_anchor = (1,1))\n",
    "plt.show()"
   ]
  },
  {
   "cell_type": "markdown",
   "metadata": {},
   "source": [
    "* <u>Intercept Comparison</u>: It looks like the intercept of best fit lines are sorted by the quality level, higher the quality, greater the intercept. \n",
    "* <u>Slope Comparison</u>: It looks like the slopes of quality level between 2-9 are similar and very small. However, quality 10 has a negative slope and quality 1 has a positive slope. \n",
    "Trend of lines: almost not sgtrong relationship"
   ]
  },
  {
   "cell_type": "markdown",
   "metadata": {},
   "source": [
    "Intepretation of the statistics\n",
    "- Based on the statistics summary, the compare measure of center in graph 2 and the intercept comparison in graph 3 indicates the positive relationship between house prcing and the overall quality. \n",
    "- Measure of center and slope comparison show that most of the house pricing are not affected by which month it was sold. \n",
    "- However, it is necessary to notice that house which has extreme high quality(10) is more likely to be sold in higher price in earlier months; conversely, house which has extreme low quality(1) is more likely to be sold in higher price in later months."
   ]
  },
  {
   "cell_type": "markdown",
   "metadata": {},
   "source": [
    "Value of this intepretation\n",
    "- Therefore, it is easy to provide a reference of price range to our clients who would like to buy a house based on the evaluation of the overall quality. \n",
    "- What's more, due to the special property of extreme high and low quality houses, we can choose to sell high quality house in prior to the low quality one."
   ]
  },
  {
   "cell_type": "markdown",
   "metadata": {},
   "source": [
    "## 3. Inference"
   ]
  },
  {
   "cell_type": "markdown",
   "metadata": {},
   "source": [
    "**Research Question**: Is there an association between the Central air condition(Central_Air) and the Year Built(Year_Built) in all residential Homes in Ames, Iowa?\n",
    "\n",
    "$H_0 :  \\mu_1 - \\mu_2 = 0$\n",
    "\n",
    "$H_1 :  \\mu_1 - \\mu_2 \\neq 0$\n",
    "\n",
    " where \n",
    " $\\mu_1$ is the average year built value for residential homes that has central air condition.\n",
    " \n",
    " $\\mu_2$ is the average year built value for residential homes that doesn't has central air condition.\n",
    " \n",
    " \n",
    " \n",
    " \n",
    " \n",
    " Next, we should check Centrral Limit Theorem conditions (for sample mean differences) to make sure that the decisions that we make with our hypothesis testing procedure are valid.\n",
    " \n",
    " 1. Sample of homes which have central air condition is randomly sampled.\n",
    " 2. $n_1 = 2734 < 10$ % of all homes that have central air condition in Ames, Iowa.\n",
    " 3. Sample of homes which do not have central air condition is randonly sampled.\n",
    " 4. $n_2 = 196 < 10$ % of all homes that do not have central air condition in Ames, Iowa.\n",
    " 5. $n_1 = 2734 > 30 $\n",
    " 6. $n_2 = 196 > 30$\n",
    " 7. We can assume that there is no pairwise relationship between houses in both groups in this sample.\n",
    " \n",
    " \n",
    " \n",
    " All of the conditions are met, we can proceed by conducting this hypothesis test."
   ]
  },
  {
   "cell_type": "code",
   "execution_count": 12,
   "metadata": {},
   "outputs": [
    {
     "data": {
      "text/plain": [
       "Y    2733\n",
       "N     196\n",
       "Name: Central_Air, dtype: int64"
      ]
     },
     "execution_count": 12,
     "metadata": {},
     "output_type": "execute_result"
    }
   ],
   "source": [
    "#Sample size of each population\n",
    "df_new['Central_Air'].value_counts()"
   ]
  },
  {
   "cell_type": "code",
   "execution_count": 13,
   "metadata": {},
   "outputs": [
    {
     "data": {
      "text/plain": [
       "0    1960\n",
       "1    1961\n",
       "2    1958\n",
       "3    1968\n",
       "4    1997\n",
       "Name: Year_Built, dtype: int64"
      ]
     },
     "execution_count": 13,
     "metadata": {},
     "output_type": "execute_result"
    }
   ],
   "source": [
    "df_new['Year_Built'].head()"
   ]
  },
  {
   "cell_type": "code",
   "execution_count": 14,
   "metadata": {},
   "outputs": [
    {
     "data": {
      "text/plain": [
       "1974.3845590925723"
      ]
     },
     "execution_count": 14,
     "metadata": {},
     "output_type": "execute_result"
    }
   ],
   "source": [
    "#Sample mean of year built value for residential homes that has central air condition.\n",
    "mean_y = df_new[df_new['Central_Air'] == 'Y']['Year_Built'].mean()\n",
    "mean_y"
   ]
  },
  {
   "cell_type": "code",
   "execution_count": 15,
   "metadata": {},
   "outputs": [
    {
     "data": {
      "text/plain": [
       "1929.3775510204082"
      ]
     },
     "execution_count": 15,
     "metadata": {},
     "output_type": "execute_result"
    }
   ],
   "source": [
    "#Sample mean of year built value for residential homes that doesn't has central air condition.\n",
    "mean_n = df_new[df_new['Central_Air'] == 'N']['Year_Built'].mean()\n",
    "mean_n"
   ]
  },
  {
   "cell_type": "code",
   "execution_count": 16,
   "metadata": {},
   "outputs": [],
   "source": [
    "#Sample size of residential homes that have central air condition.\n",
    "n_y = df_new['Central_Air'].value_counts()[0]\n",
    "\n",
    "#Sample size of residential homes that do not central air condition.\n",
    "n_n = df_new['Central_Air'].value_counts()[1]\n",
    "\n",
    "#Standard deviation of year built value for residential homes that have central air condition.\n",
    "std_y = df_new[df_new['Central_Air'] == 'Y']['Year_Built'].std()\n",
    "\n",
    "#Standard deviation of year built value for residential homes that do not central air condition.\n",
    "std_n = df_new[df_new['Central_Air'] == 'N']['Year_Built'].std()"
   ]
  },
  {
   "cell_type": "code",
   "execution_count": 17,
   "metadata": {},
   "outputs": [
    {
     "name": "stdout",
     "output_type": "stream",
     "text": [
      "Point Estimate:  45.007008072164126\n"
     ]
    }
   ],
   "source": [
    "point_estimate=mean_y-mean_n\n",
    "print('Point Estimate: ', point_estimate)"
   ]
  },
  {
   "cell_type": "code",
   "execution_count": 18,
   "metadata": {},
   "outputs": [
    {
     "name": "stdout",
     "output_type": "stream",
     "text": [
      "Standard Error:  1.5939958876111013\n"
     ]
    }
   ],
   "source": [
    "standard_error=np.sqrt((std_y**2)/n_y + (std_n**2)/n_n)\n",
    "print('Standard Error: ', standard_error)"
   ]
  },
  {
   "cell_type": "code",
   "execution_count": 19,
   "metadata": {},
   "outputs": [
    {
     "name": "stdout",
     "output_type": "stream",
     "text": [
      "Test statistic (ie. t-score of the point estimate): 28.23533512348986\n"
     ]
    }
   ],
   "source": [
    "test_stat=(point_estimate-0)/standard_error\n",
    "print('Test statistic (ie. t-score of the point estimate):',test_stat)"
   ]
  },
  {
   "cell_type": "code",
   "execution_count": 20,
   "metadata": {},
   "outputs": [
    {
     "name": "stdout",
     "output_type": "stream",
     "text": [
      "p-value:  0.0\n"
     ]
    }
   ],
   "source": [
    "pvalue=2*(1-t.cdf(np.abs(test_stat), df=195))\n",
    "\n",
    "print('p-value: ',pvalue)"
   ]
  },
  {
   "cell_type": "markdown",
   "metadata": {},
   "source": [
    "Since p-value = 0, we can suggest that we can reject the null hypothesis, which means that there is an association between the Central air condition(Central_Air) and the Year Built(Year_Built) in all residential homes in Ames, lwoa."
   ]
  },
  {
   "cell_type": "markdown",
   "metadata": {},
   "source": [
    "Since there is an association between the Central Air Conditioning(Central_Air) and the Year Built(Built) in all residential homes in Amer, Iowa. We would be able to estimate the approximate year that the houses start changing to have central air conditioning based on the year it is built."
   ]
  },
  {
   "cell_type": "markdown",
   "metadata": {},
   "source": [
    "## 4. Linear Regression"
   ]
  },
  {
   "cell_type": "markdown",
   "metadata": {},
   "source": [
    "### Research Question\n",
    "Is there a linear relationship between the Sale Price(price) and the Overall Quality(Overall_Qual), the Condition of sale (Sale_Condition), the Central air condition(Central_Air), and the Year Built(Year_Built) in the sample? What about in the all residential homes in Ames, Iwoa?"
   ]
  },
  {
   "cell_type": "code",
   "execution_count": 21,
   "metadata": {},
   "outputs": [
    {
     "data": {
      "text/html": [
       "<table class=\"simpletable\">\n",
       "<caption>OLS Regression Results</caption>\n",
       "<tr>\n",
       "  <th>Dep. Variable:</th>          <td>price</td>      <th>  R-squared:         </th> <td>   0.656</td> \n",
       "</tr>\n",
       "<tr>\n",
       "  <th>Model:</th>                   <td>OLS</td>       <th>  Adj. R-squared:    </th> <td>   0.655</td> \n",
       "</tr>\n",
       "<tr>\n",
       "  <th>Method:</th>             <td>Least Squares</td>  <th>  F-statistic:       </th> <td>   694.9</td> \n",
       "</tr>\n",
       "<tr>\n",
       "  <th>Date:</th>             <td>Tue, 07 Dec 2021</td> <th>  Prob (F-statistic):</th>  <td>  0.00</td>  \n",
       "</tr>\n",
       "<tr>\n",
       "  <th>Time:</th>                 <td>19:58:36</td>     <th>  Log-Likelihood:    </th> <td> -35658.</td> \n",
       "</tr>\n",
       "<tr>\n",
       "  <th>No. Observations:</th>      <td>  2929</td>      <th>  AIC:               </th> <td>7.133e+04</td>\n",
       "</tr>\n",
       "<tr>\n",
       "  <th>Df Residuals:</th>          <td>  2920</td>      <th>  BIC:               </th> <td>7.139e+04</td>\n",
       "</tr>\n",
       "<tr>\n",
       "  <th>Df Model:</th>              <td>     8</td>      <th>                     </th>     <td> </td>    \n",
       "</tr>\n",
       "<tr>\n",
       "  <th>Covariance Type:</th>      <td>nonrobust</td>    <th>                     </th>     <td> </td>    \n",
       "</tr>\n",
       "</table>\n",
       "<table class=\"simpletable\">\n",
       "<tr>\n",
       "              <td></td>                 <th>coef</th>     <th>std err</th>      <th>t</th>      <th>P>|t|</th>  <th>[0.025</th>    <th>0.975]</th>  \n",
       "</tr>\n",
       "<tr>\n",
       "  <th>Intercept</th>                 <td>-6.062e+05</td> <td> 7.13e+04</td> <td>   -8.496</td> <td> 0.000</td> <td>-7.46e+05</td> <td>-4.66e+05</td>\n",
       "</tr>\n",
       "<tr>\n",
       "  <th>Sale_Condition[T.AdjLand]</th> <td>-6778.5689</td> <td> 1.41e+04</td> <td>   -0.481</td> <td> 0.631</td> <td>-3.44e+04</td> <td> 2.09e+04</td>\n",
       "</tr>\n",
       "<tr>\n",
       "  <th>Sale_Condition[T.Alloca]</th>  <td> 1.676e+04</td> <td> 1.04e+04</td> <td>    1.615</td> <td> 0.106</td> <td>-3584.202</td> <td> 3.71e+04</td>\n",
       "</tr>\n",
       "<tr>\n",
       "  <th>Sale_Condition[T.Family]</th>  <td>-1315.9882</td> <td> 7725.596</td> <td>   -0.170</td> <td> 0.865</td> <td>-1.65e+04</td> <td> 1.38e+04</td>\n",
       "</tr>\n",
       "<tr>\n",
       "  <th>Sale_Condition[T.Normal]</th>  <td> 7645.4771</td> <td> 3570.988</td> <td>    2.141</td> <td> 0.032</td> <td>  643.568</td> <td> 1.46e+04</td>\n",
       "</tr>\n",
       "<tr>\n",
       "  <th>Sale_Condition[T.Partial]</th> <td> 3.038e+04</td> <td> 4837.260</td> <td>    6.281</td> <td> 0.000</td> <td> 2.09e+04</td> <td> 3.99e+04</td>\n",
       "</tr>\n",
       "<tr>\n",
       "  <th>Central_Air[T.Y]</th>          <td> 4315.7593</td> <td> 3806.160</td> <td>    1.134</td> <td> 0.257</td> <td>-3147.271</td> <td> 1.18e+04</td>\n",
       "</tr>\n",
       "<tr>\n",
       "  <th>Overall_Qual</th>              <td> 3.991e+04</td> <td>  783.351</td> <td>   50.954</td> <td> 0.000</td> <td> 3.84e+04</td> <td> 4.15e+04</td>\n",
       "</tr>\n",
       "<tr>\n",
       "  <th>Year_Built</th>                <td>  269.2409</td> <td>   37.839</td> <td>    7.115</td> <td> 0.000</td> <td>  195.047</td> <td>  343.435</td>\n",
       "</tr>\n",
       "</table>\n",
       "<table class=\"simpletable\">\n",
       "<tr>\n",
       "  <th>Omnibus:</th>       <td>1113.757</td> <th>  Durbin-Watson:     </th> <td>   1.382</td>\n",
       "</tr>\n",
       "<tr>\n",
       "  <th>Prob(Omnibus):</th>  <td> 0.000</td>  <th>  Jarque-Bera (JB):  </th> <td>9602.323</td>\n",
       "</tr>\n",
       "<tr>\n",
       "  <th>Skew:</th>           <td> 1.563</td>  <th>  Prob(JB):          </th> <td>    0.00</td>\n",
       "</tr>\n",
       "<tr>\n",
       "  <th>Kurtosis:</th>       <td>11.301</td>  <th>  Cond. No.          </th> <td>1.62e+05</td>\n",
       "</tr>\n",
       "</table><br/><br/>Notes:<br/>[1] Standard Errors assume that the covariance matrix of the errors is correctly specified.<br/>[2] The condition number is large, 1.62e+05. This might indicate that there are<br/>strong multicollinearity or other numerical problems."
      ],
      "text/plain": [
       "<class 'statsmodels.iolib.summary.Summary'>\n",
       "\"\"\"\n",
       "                            OLS Regression Results                            \n",
       "==============================================================================\n",
       "Dep. Variable:                  price   R-squared:                       0.656\n",
       "Model:                            OLS   Adj. R-squared:                  0.655\n",
       "Method:                 Least Squares   F-statistic:                     694.9\n",
       "Date:                Tue, 07 Dec 2021   Prob (F-statistic):               0.00\n",
       "Time:                        19:58:36   Log-Likelihood:                -35658.\n",
       "No. Observations:                2929   AIC:                         7.133e+04\n",
       "Df Residuals:                    2920   BIC:                         7.139e+04\n",
       "Df Model:                           8                                         \n",
       "Covariance Type:            nonrobust                                         \n",
       "=============================================================================================\n",
       "                                coef    std err          t      P>|t|      [0.025      0.975]\n",
       "---------------------------------------------------------------------------------------------\n",
       "Intercept                 -6.062e+05   7.13e+04     -8.496      0.000   -7.46e+05   -4.66e+05\n",
       "Sale_Condition[T.AdjLand] -6778.5689   1.41e+04     -0.481      0.631   -3.44e+04    2.09e+04\n",
       "Sale_Condition[T.Alloca]   1.676e+04   1.04e+04      1.615      0.106   -3584.202    3.71e+04\n",
       "Sale_Condition[T.Family]  -1315.9882   7725.596     -0.170      0.865   -1.65e+04    1.38e+04\n",
       "Sale_Condition[T.Normal]   7645.4771   3570.988      2.141      0.032     643.568    1.46e+04\n",
       "Sale_Condition[T.Partial]  3.038e+04   4837.260      6.281      0.000    2.09e+04    3.99e+04\n",
       "Central_Air[T.Y]           4315.7593   3806.160      1.134      0.257   -3147.271    1.18e+04\n",
       "Overall_Qual               3.991e+04    783.351     50.954      0.000    3.84e+04    4.15e+04\n",
       "Year_Built                  269.2409     37.839      7.115      0.000     195.047     343.435\n",
       "==============================================================================\n",
       "Omnibus:                     1113.757   Durbin-Watson:                   1.382\n",
       "Prob(Omnibus):                  0.000   Jarque-Bera (JB):             9602.323\n",
       "Skew:                           1.563   Prob(JB):                         0.00\n",
       "Kurtosis:                      11.301   Cond. No.                     1.62e+05\n",
       "==============================================================================\n",
       "\n",
       "Notes:\n",
       "[1] Standard Errors assume that the covariance matrix of the errors is correctly specified.\n",
       "[2] The condition number is large, 1.62e+05. This might indicate that there are\n",
       "strong multicollinearity or other numerical problems.\n",
       "\"\"\""
      ]
     },
     "execution_count": 21,
     "metadata": {},
     "output_type": "execute_result"
    }
   ],
   "source": [
    "saleprice_mod = smf.ols('price ~ Overall_Qual + Sale_Condition + Central_Air + Year_Built', data = df_new).fit()\n",
    "saleprice_mod.summary()"
   ]
  },
  {
   "cell_type": "markdown",
   "metadata": {},
   "source": [
    "$\\hat{price}$ = $-6.06*10^{5}$ - 6778.5689Sale_Condition[T.AdjLand] + $1.676*10^{4}$Sale_Condition[T.Alloca] -1315.9882 * Sale_Condition[T.Family] + 7645.4771 * Sale_Condition[T.Normal] + $3.038*10^{4}$Sale_Condition[T.Partial] + 4315.7593Central_Air[T.Y] + $3.991*10^{4}$Overall_Qual + 269.2409Year_Built"
   ]
  },
  {
   "cell_type": "markdown",
   "metadata": {},
   "source": [
    "### Linear Regression Contions for infrerence for this model.\n",
    "Next, we would like to check the linear regression conditions in order to make sure that the linear regression model would make accurate inference."
   ]
  },
  {
   "cell_type": "markdown",
   "metadata": {},
   "source": [
    "#### Condition 1: Linearity Condition\n",
    "\n",
    "Because the distribution of points in the plot below does not evenly distributed above and below the line; therefore, the linearity condition is not met.\n",
    "\n",
    "\n",
    "#### Condition 2: Constant Variability of Residuals Condition\n",
    "Because the y-axis spread of points in the plot below does not remain the same as we change from left to right; therefore, the constant variability of residuaks condition is not met."
   ]
  },
  {
   "cell_type": "code",
   "execution_count": 22,
   "metadata": {},
   "outputs": [
    {
     "data": {
      "image/png": "[encoded data removed]",
      "text/plain": [
       "<Figure size 432x288 with 1 Axes>"
      ]
     },
     "metadata": {},
     "output_type": "display_data"
    }
   ],
   "source": [
    "sns.regplot(x = saleprice_mod.fittedvalues, y = saleprice_mod.resid, ci = None)\n",
    "plt.xlabel('Fitted Value')\n",
    "plt.ylabel('Residual')\n",
    "plt.show()"
   ]
  },
  {
   "cell_type": "markdown",
   "metadata": {},
   "source": [
    "#### Condition 3: Normality of Residuals (with Mean of 0) Condition\n",
    "\n",
    "Because the histogram of residuals slightly skewed to the right; therefore, the normality of residuals condition is slightly not met. However, the mean is about 0."
   ]
  },
  {
   "cell_type": "code",
   "execution_count": 23,
   "metadata": {},
   "outputs": [
    {
     "data": {
      "image/png": "[encoded data removed]",
      "text/plain": [
       "<Figure size 432x288 with 1 Axes>"
      ]
     },
     "metadata": {},
     "output_type": "display_data"
    }
   ],
   "source": [
    "plt.hist(saleprice_mod.resid)\n",
    "plt.xlabel('Residuals')\n",
    "plt.show()"
   ]
  },
  {
   "cell_type": "markdown",
   "metadata": {},
   "source": [
    "#### Condition 4: Independence of Residuals Condition\n",
    "\n",
    "Since \n",
    "- the data is randomly sampled and\n",
    "- the sample size n = 2929 , 10 % of all residential homes in Ames, Iowa.\n",
    "\n",
    "Therefore, the Independence of Residuals Condition is met."
   ]
  },
  {
   "cell_type": "markdown",
   "metadata": {},
   "source": [
    "#### Condition 5: No Multicollinearity Condition\n",
    "\n",
    "The multucollinearity condition is not met because there is a moderately strong linear relationship between the Overall Quality variable and the year built variable(R =  0.5969)"
   ]
  },
  {
   "cell_type": "code",
   "execution_count": 24,
   "metadata": {},
   "outputs": [
    {
     "data": {
      "image/png": "[encoded data removed]",
      "text/plain": [
       "<Figure size 360x360 with 6 Axes>"
      ]
     },
     "metadata": {},
     "output_type": "display_data"
    }
   ],
   "source": [
    "sns.pairplot(df_new[['Overall_Qual', 'Year_Built']])\n",
    "plt.show()"
   ]
  },
  {
   "cell_type": "code",
   "execution_count": 25,
   "metadata": {},
   "outputs": [
    {
     "data": {
      "text/html": [
       "<div>\n",
       "<style scoped>\n",
       "    .dataframe tbody tr th:only-of-type {\n",
       "        vertical-align: middle;\n",
       "    }\n",
       "\n",
       "    .dataframe tbody tr th {\n",
       "        vertical-align: top;\n",
       "    }\n",
       "\n",
       "    .dataframe thead th {\n",
       "        text-align: right;\n",
       "    }\n",
       "</style>\n",
       "<table border=\"1\" class=\"dataframe\">\n",
       "  <thead>\n",
       "    <tr style=\"text-align: right;\">\n",
       "      <th></th>\n",
       "      <th>Overall_Qual</th>\n",
       "      <th>Year_Built</th>\n",
       "    </tr>\n",
       "  </thead>\n",
       "  <tbody>\n",
       "    <tr>\n",
       "      <th>Overall_Qual</th>\n",
       "      <td>1.000000</td>\n",
       "      <td>0.596925</td>\n",
       "    </tr>\n",
       "    <tr>\n",
       "      <th>Year_Built</th>\n",
       "      <td>0.596925</td>\n",
       "      <td>1.000000</td>\n",
       "    </tr>\n",
       "  </tbody>\n",
       "</table>\n",
       "</div>"
      ],
      "text/plain": [
       "              Overall_Qual  Year_Built\n",
       "Overall_Qual      1.000000    0.596925\n",
       "Year_Built        0.596925    1.000000"
      ]
     },
     "execution_count": 25,
     "metadata": {},
     "output_type": "execute_result"
    }
   ],
   "source": [
    "df_new[['Overall_Qual', 'Year_Built']].corr()"
   ]
  },
  {
   "cell_type": "markdown",
   "metadata": {},
   "source": [
    "#### Dropping the multicollinearity explanatory variables\n",
    "Trying to delete one numerical explanatory variables from the model because the multicollinearity condition is being violated.\n",
    "\n",
    "According to the $R^2$ below when deleting the each numerical explanatory variables in each model, the model with out the year built (Year_Built) has a higher $R^2$ ($R^2 = 0.6496$). Therefore, we want to delete the year built (Year_Built) variable from the model. "
   ]
  },
  {
   "cell_type": "code",
   "execution_count": 26,
   "metadata": {},
   "outputs": [
    {
     "name": "stdout",
     "output_type": "stream",
     "text": [
      "R^2 for the model without Overall_Qual : 0.3494184742735651\n"
     ]
    }
   ],
   "source": [
    "#deleting the overall quality variable\n",
    "saleprice_mod = smf.ols('price ~ Sale_Condition + Central_Air + Year_Built', data = df_new).fit()\n",
    "print(\"R^2 for the model without Overall_Qual :\", saleprice_mod.rsquared)"
   ]
  },
  {
   "cell_type": "code",
   "execution_count": 27,
   "metadata": {},
   "outputs": [
    {
     "name": "stdout",
     "output_type": "stream",
     "text": [
      "R^2 for the model without Year_Built : 0.6496483191705891\n"
     ]
    }
   ],
   "source": [
    "#deleting the year built variable\n",
    "saleprice_mod = smf.ols('price ~ Overall_Qual + Sale_Condition + Central_Air', data = df_new).fit()\n",
    "print(\"R^2 for the model without Year_Built :\", saleprice_mod.rsquared)"
   ]
  },
  {
   "cell_type": "markdown",
   "metadata": {},
   "source": [
    "### Rechecking the Linear Regression Contions for infrerence for this model.\n",
    "Next, we would like to check the linear regression conditions again after transformations in order to make sure that the linear regression model would make accurate inference.\n",
    "\n",
    "Transformations:\n",
    "- Log of sale price (ln(price))\n",
    "- Deleting the year built (Year_Built) variable"
   ]
  },
  {
   "cell_type": "code",
   "execution_count": 28,
   "metadata": {
    "scrolled": true
   },
   "outputs": [
    {
     "data": {
      "text/html": [
       "<div>\n",
       "<style scoped>\n",
       "    .dataframe tbody tr th:only-of-type {\n",
       "        vertical-align: middle;\n",
       "    }\n",
       "\n",
       "    .dataframe tbody tr th {\n",
       "        vertical-align: top;\n",
       "    }\n",
       "\n",
       "    .dataframe thead th {\n",
       "        text-align: right;\n",
       "    }\n",
       "</style>\n",
       "<table border=\"1\" class=\"dataframe\">\n",
       "  <thead>\n",
       "    <tr style=\"text-align: right;\">\n",
       "      <th></th>\n",
       "      <th>Mo_Sold</th>\n",
       "      <th>price</th>\n",
       "      <th>Yr_Sold</th>\n",
       "      <th>Year_Built</th>\n",
       "      <th>Overall_Qual</th>\n",
       "      <th>Sale_Condition</th>\n",
       "      <th>Central_Air</th>\n",
       "      <th>Garage_Area</th>\n",
       "      <th>log_price</th>\n",
       "    </tr>\n",
       "  </thead>\n",
       "  <tbody>\n",
       "    <tr>\n",
       "      <th>0</th>\n",
       "      <td>5</td>\n",
       "      <td>215000</td>\n",
       "      <td>2010</td>\n",
       "      <td>1960</td>\n",
       "      <td>6</td>\n",
       "      <td>Normal</td>\n",
       "      <td>Y</td>\n",
       "      <td>528.0</td>\n",
       "      <td>12.278393</td>\n",
       "    </tr>\n",
       "    <tr>\n",
       "      <th>1</th>\n",
       "      <td>6</td>\n",
       "      <td>105000</td>\n",
       "      <td>2010</td>\n",
       "      <td>1961</td>\n",
       "      <td>5</td>\n",
       "      <td>Normal</td>\n",
       "      <td>Y</td>\n",
       "      <td>730.0</td>\n",
       "      <td>11.561716</td>\n",
       "    </tr>\n",
       "    <tr>\n",
       "      <th>2</th>\n",
       "      <td>6</td>\n",
       "      <td>172000</td>\n",
       "      <td>2010</td>\n",
       "      <td>1958</td>\n",
       "      <td>6</td>\n",
       "      <td>Normal</td>\n",
       "      <td>Y</td>\n",
       "      <td>312.0</td>\n",
       "      <td>12.055250</td>\n",
       "    </tr>\n",
       "    <tr>\n",
       "      <th>3</th>\n",
       "      <td>4</td>\n",
       "      <td>244000</td>\n",
       "      <td>2010</td>\n",
       "      <td>1968</td>\n",
       "      <td>7</td>\n",
       "      <td>Normal</td>\n",
       "      <td>Y</td>\n",
       "      <td>522.0</td>\n",
       "      <td>12.404924</td>\n",
       "    </tr>\n",
       "    <tr>\n",
       "      <th>4</th>\n",
       "      <td>3</td>\n",
       "      <td>189900</td>\n",
       "      <td>2010</td>\n",
       "      <td>1997</td>\n",
       "      <td>5</td>\n",
       "      <td>Normal</td>\n",
       "      <td>Y</td>\n",
       "      <td>482.0</td>\n",
       "      <td>12.154253</td>\n",
       "    </tr>\n",
       "  </tbody>\n",
       "</table>\n",
       "</div>"
      ],
      "text/plain": [
       "   Mo_Sold   price  Yr_Sold  Year_Built  Overall_Qual Sale_Condition  \\\n",
       "0        5  215000     2010        1960             6         Normal   \n",
       "1        6  105000     2010        1961             5         Normal   \n",
       "2        6  172000     2010        1958             6         Normal   \n",
       "3        4  244000     2010        1968             7         Normal   \n",
       "4        3  189900     2010        1997             5         Normal   \n",
       "\n",
       "  Central_Air  Garage_Area  log_price  \n",
       "0           Y        528.0  12.278393  \n",
       "1           Y        730.0  11.561716  \n",
       "2           Y        312.0  12.055250  \n",
       "3           Y        522.0  12.404924  \n",
       "4           Y        482.0  12.154253  "
      ]
     },
     "execution_count": 28,
     "metadata": {},
     "output_type": "execute_result"
    }
   ],
   "source": [
    "df_new['log_price'] = np.log(df_new['price'])\n",
    "df_new.head()"
   ]
  },
  {
   "cell_type": "code",
   "execution_count": 29,
   "metadata": {
    "scrolled": true
   },
   "outputs": [
    {
     "data": {
      "text/html": [
       "<table class=\"simpletable\">\n",
       "<caption>OLS Regression Results</caption>\n",
       "<tr>\n",
       "  <th>Dep. Variable:</th>        <td>log_price</td>    <th>  R-squared:         </th> <td>   0.709</td>\n",
       "</tr>\n",
       "<tr>\n",
       "  <th>Model:</th>                   <td>OLS</td>       <th>  Adj. R-squared:    </th> <td>   0.709</td>\n",
       "</tr>\n",
       "<tr>\n",
       "  <th>Method:</th>             <td>Least Squares</td>  <th>  F-statistic:       </th> <td>   1019.</td>\n",
       "</tr>\n",
       "<tr>\n",
       "  <th>Date:</th>             <td>Tue, 07 Dec 2021</td> <th>  Prob (F-statistic):</th>  <td>  0.00</td> \n",
       "</tr>\n",
       "<tr>\n",
       "  <th>Time:</th>                 <td>19:58:38</td>     <th>  Log-Likelihood:    </th> <td>  282.66</td>\n",
       "</tr>\n",
       "<tr>\n",
       "  <th>No. Observations:</th>      <td>  2929</td>      <th>  AIC:               </th> <td>  -549.3</td>\n",
       "</tr>\n",
       "<tr>\n",
       "  <th>Df Residuals:</th>          <td>  2921</td>      <th>  BIC:               </th> <td>  -501.5</td>\n",
       "</tr>\n",
       "<tr>\n",
       "  <th>Df Model:</th>              <td>     7</td>      <th>                     </th>     <td> </td>   \n",
       "</tr>\n",
       "<tr>\n",
       "  <th>Covariance Type:</th>      <td>nonrobust</td>    <th>                     </th>     <td> </td>   \n",
       "</tr>\n",
       "</table>\n",
       "<table class=\"simpletable\">\n",
       "<tr>\n",
       "              <td></td>                 <th>coef</th>     <th>std err</th>      <th>t</th>      <th>P>|t|</th>  <th>[0.025</th>    <th>0.975]</th>  \n",
       "</tr>\n",
       "<tr>\n",
       "  <th>Intercept</th>                 <td>   10.3578</td> <td>    0.025</td> <td>  413.207</td> <td> 0.000</td> <td>   10.309</td> <td>   10.407</td>\n",
       "</tr>\n",
       "<tr>\n",
       "  <th>Sale_Condition[T.AdjLand]</th> <td>    0.0516</td> <td>    0.066</td> <td>    0.782</td> <td> 0.434</td> <td>   -0.078</td> <td>    0.181</td>\n",
       "</tr>\n",
       "<tr>\n",
       "  <th>Sale_Condition[T.Alloca]</th>  <td>    0.1210</td> <td>    0.049</td> <td>    2.489</td> <td> 0.013</td> <td>    0.026</td> <td>    0.216</td>\n",
       "</tr>\n",
       "<tr>\n",
       "  <th>Sale_Condition[T.Family]</th>  <td>    0.0566</td> <td>    0.036</td> <td>    1.563</td> <td> 0.118</td> <td>   -0.014</td> <td>    0.128</td>\n",
       "</tr>\n",
       "<tr>\n",
       "  <th>Sale_Condition[T.Normal]</th>  <td>    0.1197</td> <td>    0.017</td> <td>    7.157</td> <td> 0.000</td> <td>    0.087</td> <td>    0.152</td>\n",
       "</tr>\n",
       "<tr>\n",
       "  <th>Sale_Condition[T.Partial]</th> <td>    0.1990</td> <td>    0.022</td> <td>    8.899</td> <td> 0.000</td> <td>    0.155</td> <td>    0.243</td>\n",
       "</tr>\n",
       "<tr>\n",
       "  <th>Central_Air[T.Y]</th>          <td>    0.2271</td> <td>    0.017</td> <td>   13.186</td> <td> 0.000</td> <td>    0.193</td> <td>    0.261</td>\n",
       "</tr>\n",
       "<tr>\n",
       "  <th>Overall_Qual</th>              <td>    0.2189</td> <td>    0.003</td> <td>   68.560</td> <td> 0.000</td> <td>    0.213</td> <td>    0.225</td>\n",
       "</tr>\n",
       "</table>\n",
       "<table class=\"simpletable\">\n",
       "<tr>\n",
       "  <th>Omnibus:</th>       <td>113.685</td> <th>  Durbin-Watson:     </th> <td>   1.466</td>\n",
       "</tr>\n",
       "<tr>\n",
       "  <th>Prob(Omnibus):</th> <td> 0.000</td>  <th>  Jarque-Bera (JB):  </th> <td> 272.015</td>\n",
       "</tr>\n",
       "<tr>\n",
       "  <th>Skew:</th>          <td>-0.203</td>  <th>  Prob(JB):          </th> <td>8.57e-60</td>\n",
       "</tr>\n",
       "<tr>\n",
       "  <th>Kurtosis:</th>      <td> 4.437</td>  <th>  Cond. No.          </th> <td>    107.</td>\n",
       "</tr>\n",
       "</table><br/><br/>Notes:<br/>[1] Standard Errors assume that the covariance matrix of the errors is correctly specified."
      ],
      "text/plain": [
       "<class 'statsmodels.iolib.summary.Summary'>\n",
       "\"\"\"\n",
       "                            OLS Regression Results                            \n",
       "==============================================================================\n",
       "Dep. Variable:              log_price   R-squared:                       0.709\n",
       "Model:                            OLS   Adj. R-squared:                  0.709\n",
       "Method:                 Least Squares   F-statistic:                     1019.\n",
       "Date:                Tue, 07 Dec 2021   Prob (F-statistic):               0.00\n",
       "Time:                        19:58:38   Log-Likelihood:                 282.66\n",
       "No. Observations:                2929   AIC:                            -549.3\n",
       "Df Residuals:                    2921   BIC:                            -501.5\n",
       "Df Model:                           7                                         \n",
       "Covariance Type:            nonrobust                                         \n",
       "=============================================================================================\n",
       "                                coef    std err          t      P>|t|      [0.025      0.975]\n",
       "---------------------------------------------------------------------------------------------\n",
       "Intercept                    10.3578      0.025    413.207      0.000      10.309      10.407\n",
       "Sale_Condition[T.AdjLand]     0.0516      0.066      0.782      0.434      -0.078       0.181\n",
       "Sale_Condition[T.Alloca]      0.1210      0.049      2.489      0.013       0.026       0.216\n",
       "Sale_Condition[T.Family]      0.0566      0.036      1.563      0.118      -0.014       0.128\n",
       "Sale_Condition[T.Normal]      0.1197      0.017      7.157      0.000       0.087       0.152\n",
       "Sale_Condition[T.Partial]     0.1990      0.022      8.899      0.000       0.155       0.243\n",
       "Central_Air[T.Y]              0.2271      0.017     13.186      0.000       0.193       0.261\n",
       "Overall_Qual                  0.2189      0.003     68.560      0.000       0.213       0.225\n",
       "==============================================================================\n",
       "Omnibus:                      113.685   Durbin-Watson:                   1.466\n",
       "Prob(Omnibus):                  0.000   Jarque-Bera (JB):              272.015\n",
       "Skew:                          -0.203   Prob(JB):                     8.57e-60\n",
       "Kurtosis:                       4.437   Cond. No.                         107.\n",
       "==============================================================================\n",
       "\n",
       "Notes:\n",
       "[1] Standard Errors assume that the covariance matrix of the errors is correctly specified.\n",
       "\"\"\""
      ]
     },
     "execution_count": 29,
     "metadata": {},
     "output_type": "execute_result"
    }
   ],
   "source": [
    "#New model with transformation\n",
    "log_price_mod = smf.ols('log_price ~ Overall_Qual + Sale_Condition + Central_Air', data = df_new).fit()\n",
    "log_price_mod.summary()"
   ]
  },
  {
   "cell_type": "markdown",
   "metadata": {},
   "source": [
    "$\\hat{ln(price)}$ = 10.3578 + 0.0516Sale_Condition[T.AdjLand] + 0.1210Sale_Condition[T.Alloca] + 0.0566Sale_Condition[T.Family] + 0.1197Sale_Condition[T.Normal] + 0.1990Sale_Condition[T.Partial] + 0.2271Central_Air[T.Y] + 0.2189Overall_Qual"
   ]
  },
  {
   "cell_type": "markdown",
   "metadata": {},
   "source": [
    "#### Condition 1: Linearity Condition\n",
    "\n",
    "Because the distribution of points in the plot below is evenly distributed above and below the line; therefore, the linearity condition is met.\n",
    "\n",
    "\n",
    "#### Condition 2: Constant Variability of Residuals Condition\n",
    "Because the y-axis spread of points in the plot below has a slightly changes the same as we change from left to right; therefore, the constant variability of residuaks condition is met."
   ]
  },
  {
   "cell_type": "code",
   "execution_count": 30,
   "metadata": {
    "scrolled": true
   },
   "outputs": [
    {
     "data": {
      "image/png": "[encoded data removed]",
      "text/plain": [
       "<Figure size 432x288 with 1 Axes>"
      ]
     },
     "metadata": {},
     "output_type": "display_data"
    }
   ],
   "source": [
    "sns.regplot(x = log_price_mod.fittedvalues, y = log_price_mod.resid, ci = None)\n",
    "plt.xlabel('Fitted Value')\n",
    "plt.ylabel('Residual')\n",
    "plt.show()"
   ]
  },
  {
   "cell_type": "markdown",
   "metadata": {},
   "source": [
    "#### Condition 3: Normality of Residuals (with Mean of 0) Condition\n",
    "\n",
    "Because the histogram of residuals is normally distributed; therefore, the normality of residuals condition is met (with mean is at about 0)."
   ]
  },
  {
   "cell_type": "code",
   "execution_count": 31,
   "metadata": {},
   "outputs": [
    {
     "data": {
      "image/png": "[encoded data removed]",
      "text/plain": [
       "<Figure size 432x288 with 1 Axes>"
      ]
     },
     "metadata": {},
     "output_type": "display_data"
    }
   ],
   "source": [
    "plt.hist(log_price_mod.resid)\n",
    "plt.xlabel('Residuals')\n",
    "plt.show()"
   ]
  },
  {
   "cell_type": "markdown",
   "metadata": {},
   "source": [
    "#### Condition 4: Independence of Residuals Condition\n",
    "\n",
    "Since \n",
    "- the data is randomly sampled and\n",
    "- the sample size n = 2929 , 10 % of all residential homes in Ames, Iowa.\n",
    "\n",
    "Therefore, the Independence of Residuals Condition is met."
   ]
  },
  {
   "cell_type": "markdown",
   "metadata": {},
   "source": [
    "#### Condition 5: No Multicollinearity Condition\n",
    "\n",
    "The multicollinearity condition is met because there is only one numerical explanatory variables in the model."
   ]
  },
  {
   "cell_type": "markdown",
   "metadata": {},
   "source": [
    "### Model Fit\n",
    "The percent of variability of this log of sale price explained by this model is 0.709. It is high which means that the model fits with the data."
   ]
  },
  {
   "cell_type": "code",
   "execution_count": 32,
   "metadata": {},
   "outputs": [
    {
     "data": {
      "text/plain": [
       "0.7094162928279473"
      ]
     },
     "execution_count": 32,
     "metadata": {},
     "output_type": "execute_result"
    }
   ],
   "source": [
    "log_price_mod.rsquared"
   ]
  },
  {
   "cell_type": "markdown",
   "metadata": {},
   "source": [
    "### Model Prediction\n",
    "Predict the sale price of the residential home in Ames, Iowa, that is a normal sale, has a central air conditioning, and the overall quality is at 8."
   ]
  },
  {
   "cell_type": "code",
   "execution_count": 33,
   "metadata": {},
   "outputs": [
    {
     "data": {
      "text/plain": [
       "0    12.455459\n",
       "dtype: float64"
      ]
     },
     "execution_count": 33,
     "metadata": {},
     "output_type": "execute_result"
    }
   ],
   "source": [
    "#e ^ y_bar\n",
    "ln_predict = log_price_mod.predict(exog = dict({'Sale_Condition': 'Normal', 'Central_Air': 'Y', 'Overall_Qual': 8}))\n",
    "ln_predict"
   ]
  },
  {
   "cell_type": "code",
   "execution_count": 34,
   "metadata": {
    "scrolled": true
   },
   "outputs": [
    {
     "name": "stdout",
     "output_type": "stream",
     "text": [
      "The predicted sale price (US dollars) of the homes that is a normal sale that has a central air conditioning and the overall quality rate is 8 : 256647.56687186437\n"
     ]
    }
   ],
   "source": [
    "print('The predicted sale price (US dollars) of the homes that is a normal sale that has a central air conditioning and the overall quality rate is 8 :', \n",
    "      np.exp(ln_predict)[0])"
   ]
  },
  {
   "cell_type": "markdown",
   "metadata": {},
   "source": [
    "### Model Inference\n",
    "Next, we would like to know if we have sufficient evidence to suggest the slopes are non-zero in the population model?"
   ]
  },
  {
   "cell_type": "markdown",
   "metadata": {},
   "source": [
    "#### Hypothesis\n",
    "First, we set up the hypothesis tests for this hypothesis test for each slope.\n",
    "\n",
    "1. $H_0: \\beta_1 = 0;$ $H_A: \\beta_1 \\neq 0$\n",
    "\n",
    "2. $H_0: \\beta_2 = 0;$ $H_A: \\beta_2 \\neq 0$\n",
    "\n",
    "3. $H_0: \\beta_3 = 0;$ $H_A: \\beta_3 \\neq 0$\n",
    "\n",
    "4. $H_0: \\beta_4 = 0;$ $H_A: \\beta_4 \\neq 0$\n",
    "\n",
    "5. $H_0: \\beta_5 = 0;$ $H_A: \\beta_5 \\neq 0$\n",
    "\n",
    "6. $H_0: \\beta_6 = 0;$ $H_A: \\beta_6 \\neq 0$\n",
    "\n",
    "7. $H_0: \\beta_7 = 0;$ $H_A: \\beta_7 \\neq 0$\n",
    "\n",
    "\n",
    "where \n",
    " - $\\beta_1$ = the population slope corresponding to the Sale_Condition[T.AdjLand]\n",
    " - $\\beta_2$ = the population slope corresponding to the Sale_Condition[T.Alloca]\n",
    " - $\\beta_3$ = the population slope corresponding to the Sale_Condition[T.Family]\n",
    " - $\\beta_4$ = the population slope corresponding to the Sale_Condition[T.Normal]\n",
    " - $\\beta_5$ = the population slope corresponding to the Sale_Condition[T.Partial]\n",
    " - $\\beta_6$ = the population slope corresponding to the Central_Air[T.Y]\n",
    " - $\\beta_7$ = the population slope corresponding to the Overall_Qual\n"
   ]
  },
  {
   "cell_type": "markdown",
   "metadata": {},
   "source": [
    "#### Test statistics and p-value\n",
    "\n",
    "From the summary output table, the test statistics and p-value for each slope are displayed below:"
   ]
  },
  {
   "cell_type": "code",
   "execution_count": 35,
   "metadata": {},
   "outputs": [
    {
     "data": {
      "text/html": [
       "<table class=\"simpletable\">\n",
       "<caption>OLS Regression Results</caption>\n",
       "<tr>\n",
       "  <th>Dep. Variable:</th>        <td>log_price</td>    <th>  R-squared:         </th> <td>   0.709</td>\n",
       "</tr>\n",
       "<tr>\n",
       "  <th>Model:</th>                   <td>OLS</td>       <th>  Adj. R-squared:    </th> <td>   0.709</td>\n",
       "</tr>\n",
       "<tr>\n",
       "  <th>Method:</th>             <td>Least Squares</td>  <th>  F-statistic:       </th> <td>   1019.</td>\n",
       "</tr>\n",
       "<tr>\n",
       "  <th>Date:</th>             <td>Tue, 07 Dec 2021</td> <th>  Prob (F-statistic):</th>  <td>  0.00</td> \n",
       "</tr>\n",
       "<tr>\n",
       "  <th>Time:</th>                 <td>19:58:38</td>     <th>  Log-Likelihood:    </th> <td>  282.66</td>\n",
       "</tr>\n",
       "<tr>\n",
       "  <th>No. Observations:</th>      <td>  2929</td>      <th>  AIC:               </th> <td>  -549.3</td>\n",
       "</tr>\n",
       "<tr>\n",
       "  <th>Df Residuals:</th>          <td>  2921</td>      <th>  BIC:               </th> <td>  -501.5</td>\n",
       "</tr>\n",
       "<tr>\n",
       "  <th>Df Model:</th>              <td>     7</td>      <th>                     </th>     <td> </td>   \n",
       "</tr>\n",
       "<tr>\n",
       "  <th>Covariance Type:</th>      <td>nonrobust</td>    <th>                     </th>     <td> </td>   \n",
       "</tr>\n",
       "</table>\n",
       "<table class=\"simpletable\">\n",
       "<tr>\n",
       "              <td></td>                 <th>coef</th>     <th>std err</th>      <th>t</th>      <th>P>|t|</th>  <th>[0.025</th>    <th>0.975]</th>  \n",
       "</tr>\n",
       "<tr>\n",
       "  <th>Intercept</th>                 <td>   10.3578</td> <td>    0.025</td> <td>  413.207</td> <td> 0.000</td> <td>   10.309</td> <td>   10.407</td>\n",
       "</tr>\n",
       "<tr>\n",
       "  <th>Sale_Condition[T.AdjLand]</th> <td>    0.0516</td> <td>    0.066</td> <td>    0.782</td> <td> 0.434</td> <td>   -0.078</td> <td>    0.181</td>\n",
       "</tr>\n",
       "<tr>\n",
       "  <th>Sale_Condition[T.Alloca]</th>  <td>    0.1210</td> <td>    0.049</td> <td>    2.489</td> <td> 0.013</td> <td>    0.026</td> <td>    0.216</td>\n",
       "</tr>\n",
       "<tr>\n",
       "  <th>Sale_Condition[T.Family]</th>  <td>    0.0566</td> <td>    0.036</td> <td>    1.563</td> <td> 0.118</td> <td>   -0.014</td> <td>    0.128</td>\n",
       "</tr>\n",
       "<tr>\n",
       "  <th>Sale_Condition[T.Normal]</th>  <td>    0.1197</td> <td>    0.017</td> <td>    7.157</td> <td> 0.000</td> <td>    0.087</td> <td>    0.152</td>\n",
       "</tr>\n",
       "<tr>\n",
       "  <th>Sale_Condition[T.Partial]</th> <td>    0.1990</td> <td>    0.022</td> <td>    8.899</td> <td> 0.000</td> <td>    0.155</td> <td>    0.243</td>\n",
       "</tr>\n",
       "<tr>\n",
       "  <th>Central_Air[T.Y]</th>          <td>    0.2271</td> <td>    0.017</td> <td>   13.186</td> <td> 0.000</td> <td>    0.193</td> <td>    0.261</td>\n",
       "</tr>\n",
       "<tr>\n",
       "  <th>Overall_Qual</th>              <td>    0.2189</td> <td>    0.003</td> <td>   68.560</td> <td> 0.000</td> <td>    0.213</td> <td>    0.225</td>\n",
       "</tr>\n",
       "</table>\n",
       "<table class=\"simpletable\">\n",
       "<tr>\n",
       "  <th>Omnibus:</th>       <td>113.685</td> <th>  Durbin-Watson:     </th> <td>   1.466</td>\n",
       "</tr>\n",
       "<tr>\n",
       "  <th>Prob(Omnibus):</th> <td> 0.000</td>  <th>  Jarque-Bera (JB):  </th> <td> 272.015</td>\n",
       "</tr>\n",
       "<tr>\n",
       "  <th>Skew:</th>          <td>-0.203</td>  <th>  Prob(JB):          </th> <td>8.57e-60</td>\n",
       "</tr>\n",
       "<tr>\n",
       "  <th>Kurtosis:</th>      <td> 4.437</td>  <th>  Cond. No.          </th> <td>    107.</td>\n",
       "</tr>\n",
       "</table><br/><br/>Notes:<br/>[1] Standard Errors assume that the covariance matrix of the errors is correctly specified."
      ],
      "text/plain": [
       "<class 'statsmodels.iolib.summary.Summary'>\n",
       "\"\"\"\n",
       "                            OLS Regression Results                            \n",
       "==============================================================================\n",
       "Dep. Variable:              log_price   R-squared:                       0.709\n",
       "Model:                            OLS   Adj. R-squared:                  0.709\n",
       "Method:                 Least Squares   F-statistic:                     1019.\n",
       "Date:                Tue, 07 Dec 2021   Prob (F-statistic):               0.00\n",
       "Time:                        19:58:38   Log-Likelihood:                 282.66\n",
       "No. Observations:                2929   AIC:                            -549.3\n",
       "Df Residuals:                    2921   BIC:                            -501.5\n",
       "Df Model:                           7                                         \n",
       "Covariance Type:            nonrobust                                         \n",
       "=============================================================================================\n",
       "                                coef    std err          t      P>|t|      [0.025      0.975]\n",
       "---------------------------------------------------------------------------------------------\n",
       "Intercept                    10.3578      0.025    413.207      0.000      10.309      10.407\n",
       "Sale_Condition[T.AdjLand]     0.0516      0.066      0.782      0.434      -0.078       0.181\n",
       "Sale_Condition[T.Alloca]      0.1210      0.049      2.489      0.013       0.026       0.216\n",
       "Sale_Condition[T.Family]      0.0566      0.036      1.563      0.118      -0.014       0.128\n",
       "Sale_Condition[T.Normal]      0.1197      0.017      7.157      0.000       0.087       0.152\n",
       "Sale_Condition[T.Partial]     0.1990      0.022      8.899      0.000       0.155       0.243\n",
       "Central_Air[T.Y]              0.2271      0.017     13.186      0.000       0.193       0.261\n",
       "Overall_Qual                  0.2189      0.003     68.560      0.000       0.213       0.225\n",
       "==============================================================================\n",
       "Omnibus:                      113.685   Durbin-Watson:                   1.466\n",
       "Prob(Omnibus):                  0.000   Jarque-Bera (JB):              272.015\n",
       "Skew:                          -0.203   Prob(JB):                     8.57e-60\n",
       "Kurtosis:                       4.437   Cond. No.                         107.\n",
       "==============================================================================\n",
       "\n",
       "Notes:\n",
       "[1] Standard Errors assume that the covariance matrix of the errors is correctly specified.\n",
       "\"\"\""
      ]
     },
     "execution_count": 35,
     "metadata": {},
     "output_type": "execute_result"
    }
   ],
   "source": [
    "log_price_mod.summary()"
   ]
  },
  {
   "cell_type": "markdown",
   "metadata": {},
   "source": [
    "#### Conclusion\n",
    "\n",
    "Using a significant level $\\alpha = 0.05$:\n",
    "\n",
    "For hypothesis test 1($\\beta_1$): Because the p-value = 0.434 $> \\alpha = 0.05$, we fail to reject the null hypothesis.\n",
    "\n",
    "For hypothesis test 2($\\beta_2$): Because the p-value = 0.013 $< \\alpha = 0.05$, we reject the null hypothesis.\n",
    "\n",
    "For hypothesis test 3($\\beta_3$): Because the p-value = 0.118 $> \\alpha = 0.05$, we fail to reject the null hypothesis.\n",
    "\n",
    "For hypothesis test 4($\\beta_4$): Because the p-value = 0.000 $< \\alpha = 0.05$, we reject the null hypothesis.\n",
    "\n",
    "For hypothesis test 5($\\beta_5$): Because the p-value = 0.000 $< \\alpha = 0.05$, we reject the null hypothesis.\n",
    "\n",
    "For hypothesis test 6($\\beta_6$): Because the p-value = 0.000 $< \\alpha = 0.05$, we reject the null hypothesis.\n",
    "\n",
    "For hypothesis test 7($\\beta_7$): Because the p-value = 0.000 $< \\alpha = 0.05$, we reject the null hypothesis.\n",
    "\n",
    "Therefore, the slopes of Sale_Condition[T.Alloca], Sale_Condition[T.Normal], Sale_Condition[T.Partial], Central_Air[T.Y], and Overall_Qual have sufficient evidence to suggest that they are non-zero in the model."
   ]
  },
  {
   "cell_type": "markdown",
   "metadata": {},
   "source": [
    "### Linear Regression Analysis and Research Question.\n",
    "This linear regression analysis helps us determine whether te Overall Quality(Overall_Qual), the COndition of Sale(Sale_Condition), the Central Air Conditioning(Central_air), and the Year Built(Year_Built) affects the Sale Price or not. From the analysis, we found that without the year built(Year_Built) variable, the model can explain more of the variability of the Sale Price(price). Therefore, considering these variables, there is a linear relationship between the  Sale Price(price) and the Overall Quality(Overall_Qual), the Condition of sale (Sale_Condition), the Central air conditioning(Central_Air). \n",
    "\n",
    "As the residential house hunter, we can predict the sale price of the residential home based on the Overall Quality , the Condition of Sale, and the Central Conditioning which would also be the specification requested by the customers as they are looking for homes."
   ]
  },
  {
   "cell_type": "markdown",
   "metadata": {},
   "source": [
    "## 5. Logistic Regression"
   ]
  },
  {
   "cell_type": "markdown",
   "metadata": {},
   "source": [
    "**Research Question:** Is there a linear relationship between the log-odds of the success level of the Central air condition(Central_Air) and the Year Built(Year_Built), the Size of Garage(Garage_Area), the Year Sold(Yr_Sold), and the Sale Price(price) in the sample? What about the all residential homes in Ames, Iwoa? What explanatory variables should we include in the model to build a parsimonious model?"
   ]
  },
  {
   "cell_type": "code",
   "execution_count": 36,
   "metadata": {},
   "outputs": [
    {
     "data": {
      "text/html": [
       "<div>\n",
       "<style scoped>\n",
       "    .dataframe tbody tr th:only-of-type {\n",
       "        vertical-align: middle;\n",
       "    }\n",
       "\n",
       "    .dataframe tbody tr th {\n",
       "        vertical-align: top;\n",
       "    }\n",
       "\n",
       "    .dataframe thead th {\n",
       "        text-align: right;\n",
       "    }\n",
       "</style>\n",
       "<table border=\"1\" class=\"dataframe\">\n",
       "  <thead>\n",
       "    <tr style=\"text-align: right;\">\n",
       "      <th></th>\n",
       "      <th>Mo_Sold</th>\n",
       "      <th>price</th>\n",
       "      <th>Yr_Sold</th>\n",
       "      <th>Year_Built</th>\n",
       "      <th>Overall_Qual</th>\n",
       "      <th>Sale_Condition</th>\n",
       "      <th>Central_Air</th>\n",
       "      <th>Garage_Area</th>\n",
       "      <th>log_price</th>\n",
       "      <th>numer_air</th>\n",
       "    </tr>\n",
       "  </thead>\n",
       "  <tbody>\n",
       "    <tr>\n",
       "      <th>0</th>\n",
       "      <td>5</td>\n",
       "      <td>215000</td>\n",
       "      <td>2010</td>\n",
       "      <td>1960</td>\n",
       "      <td>6</td>\n",
       "      <td>Normal</td>\n",
       "      <td>Y</td>\n",
       "      <td>528.0</td>\n",
       "      <td>12.278393</td>\n",
       "      <td>1</td>\n",
       "    </tr>\n",
       "    <tr>\n",
       "      <th>1</th>\n",
       "      <td>6</td>\n",
       "      <td>105000</td>\n",
       "      <td>2010</td>\n",
       "      <td>1961</td>\n",
       "      <td>5</td>\n",
       "      <td>Normal</td>\n",
       "      <td>Y</td>\n",
       "      <td>730.0</td>\n",
       "      <td>11.561716</td>\n",
       "      <td>1</td>\n",
       "    </tr>\n",
       "    <tr>\n",
       "      <th>2</th>\n",
       "      <td>6</td>\n",
       "      <td>172000</td>\n",
       "      <td>2010</td>\n",
       "      <td>1958</td>\n",
       "      <td>6</td>\n",
       "      <td>Normal</td>\n",
       "      <td>Y</td>\n",
       "      <td>312.0</td>\n",
       "      <td>12.055250</td>\n",
       "      <td>1</td>\n",
       "    </tr>\n",
       "    <tr>\n",
       "      <th>3</th>\n",
       "      <td>4</td>\n",
       "      <td>244000</td>\n",
       "      <td>2010</td>\n",
       "      <td>1968</td>\n",
       "      <td>7</td>\n",
       "      <td>Normal</td>\n",
       "      <td>Y</td>\n",
       "      <td>522.0</td>\n",
       "      <td>12.404924</td>\n",
       "      <td>1</td>\n",
       "    </tr>\n",
       "    <tr>\n",
       "      <th>4</th>\n",
       "      <td>3</td>\n",
       "      <td>189900</td>\n",
       "      <td>2010</td>\n",
       "      <td>1997</td>\n",
       "      <td>5</td>\n",
       "      <td>Normal</td>\n",
       "      <td>Y</td>\n",
       "      <td>482.0</td>\n",
       "      <td>12.154253</td>\n",
       "      <td>1</td>\n",
       "    </tr>\n",
       "  </tbody>\n",
       "</table>\n",
       "</div>"
      ],
      "text/plain": [
       "   Mo_Sold   price  Yr_Sold  Year_Built  Overall_Qual Sale_Condition  \\\n",
       "0        5  215000     2010        1960             6         Normal   \n",
       "1        6  105000     2010        1961             5         Normal   \n",
       "2        6  172000     2010        1958             6         Normal   \n",
       "3        4  244000     2010        1968             7         Normal   \n",
       "4        3  189900     2010        1997             5         Normal   \n",
       "\n",
       "  Central_Air  Garage_Area  log_price  numer_air  \n",
       "0           Y        528.0  12.278393          1  \n",
       "1           Y        730.0  11.561716          1  \n",
       "2           Y        312.0  12.055250          1  \n",
       "3           Y        522.0  12.404924          1  \n",
       "4           Y        482.0  12.154253          1  "
      ]
     },
     "execution_count": 36,
     "metadata": {},
     "output_type": "execute_result"
    }
   ],
   "source": [
    "# Creating 0/1 responsive numerical variable from categorical variable(Central_air) into df_new dataframe\n",
    "df_new['numer_air'] = df_new['Central_Air'].map({'Y': 1, 'N': 0})\n",
    "df_new.head()"
   ]
  },
  {
   "cell_type": "markdown",
   "metadata": {},
   "source": [
    "### Creating the Training and Test dataset\n",
    "where \n",
    "- the training dataset is comprised of a random sample of 80% of the rows in our dataframe,\n",
    "- the test dataset is comprised of the remaining 20% of rows in the dataframe, and\n",
    "- we use a random state of 100."
   ]
  },
  {
   "cell_type": "code",
   "execution_count": 37,
   "metadata": {},
   "outputs": [
    {
     "data": {
      "text/html": [
       "<div>\n",
       "<style scoped>\n",
       "    .dataframe tbody tr th:only-of-type {\n",
       "        vertical-align: middle;\n",
       "    }\n",
       "\n",
       "    .dataframe tbody tr th {\n",
       "        vertical-align: top;\n",
       "    }\n",
       "\n",
       "    .dataframe thead th {\n",
       "        text-align: right;\n",
       "    }\n",
       "</style>\n",
       "<table border=\"1\" class=\"dataframe\">\n",
       "  <thead>\n",
       "    <tr style=\"text-align: right;\">\n",
       "      <th></th>\n",
       "      <th>Mo_Sold</th>\n",
       "      <th>price</th>\n",
       "      <th>Yr_Sold</th>\n",
       "      <th>Year_Built</th>\n",
       "      <th>Overall_Qual</th>\n",
       "      <th>Sale_Condition</th>\n",
       "      <th>Central_Air</th>\n",
       "      <th>Garage_Area</th>\n",
       "      <th>log_price</th>\n",
       "      <th>numer_air</th>\n",
       "    </tr>\n",
       "  </thead>\n",
       "  <tbody>\n",
       "    <tr>\n",
       "      <th>455</th>\n",
       "      <td>7</td>\n",
       "      <td>230000</td>\n",
       "      <td>2009</td>\n",
       "      <td>2007</td>\n",
       "      <td>7</td>\n",
       "      <td>Normal</td>\n",
       "      <td>Y</td>\n",
       "      <td>626.0</td>\n",
       "      <td>12.345835</td>\n",
       "      <td>1</td>\n",
       "    </tr>\n",
       "    <tr>\n",
       "      <th>1011</th>\n",
       "      <td>6</td>\n",
       "      <td>325000</td>\n",
       "      <td>2008</td>\n",
       "      <td>2005</td>\n",
       "      <td>9</td>\n",
       "      <td>Normal</td>\n",
       "      <td>Y</td>\n",
       "      <td>656.0</td>\n",
       "      <td>12.691580</td>\n",
       "      <td>1</td>\n",
       "    </tr>\n",
       "    <tr>\n",
       "      <th>1863</th>\n",
       "      <td>9</td>\n",
       "      <td>143450</td>\n",
       "      <td>2007</td>\n",
       "      <td>1968</td>\n",
       "      <td>6</td>\n",
       "      <td>Normal</td>\n",
       "      <td>Y</td>\n",
       "      <td>412.0</td>\n",
       "      <td>11.873742</td>\n",
       "      <td>1</td>\n",
       "    </tr>\n",
       "    <tr>\n",
       "      <th>1886</th>\n",
       "      <td>7</td>\n",
       "      <td>106500</td>\n",
       "      <td>2007</td>\n",
       "      <td>1959</td>\n",
       "      <td>5</td>\n",
       "      <td>Normal</td>\n",
       "      <td>Y</td>\n",
       "      <td>294.0</td>\n",
       "      <td>11.575900</td>\n",
       "      <td>1</td>\n",
       "    </tr>\n",
       "    <tr>\n",
       "      <th>1833</th>\n",
       "      <td>4</td>\n",
       "      <td>285000</td>\n",
       "      <td>2007</td>\n",
       "      <td>1992</td>\n",
       "      <td>8</td>\n",
       "      <td>Normal</td>\n",
       "      <td>Y</td>\n",
       "      <td>541.0</td>\n",
       "      <td>12.560244</td>\n",
       "      <td>1</td>\n",
       "    </tr>\n",
       "    <tr>\n",
       "      <th>...</th>\n",
       "      <td>...</td>\n",
       "      <td>...</td>\n",
       "      <td>...</td>\n",
       "      <td>...</td>\n",
       "      <td>...</td>\n",
       "      <td>...</td>\n",
       "      <td>...</td>\n",
       "      <td>...</td>\n",
       "      <td>...</td>\n",
       "      <td>...</td>\n",
       "    </tr>\n",
       "    <tr>\n",
       "      <th>1930</th>\n",
       "      <td>7</td>\n",
       "      <td>142000</td>\n",
       "      <td>2007</td>\n",
       "      <td>1953</td>\n",
       "      <td>5</td>\n",
       "      <td>Normal</td>\n",
       "      <td>Y</td>\n",
       "      <td>336.0</td>\n",
       "      <td>11.863582</td>\n",
       "      <td>1</td>\n",
       "    </tr>\n",
       "    <tr>\n",
       "      <th>79</th>\n",
       "      <td>2</td>\n",
       "      <td>194500</td>\n",
       "      <td>2010</td>\n",
       "      <td>1993</td>\n",
       "      <td>7</td>\n",
       "      <td>Normal</td>\n",
       "      <td>Y</td>\n",
       "      <td>457.0</td>\n",
       "      <td>12.178187</td>\n",
       "      <td>1</td>\n",
       "    </tr>\n",
       "    <tr>\n",
       "      <th>1859</th>\n",
       "      <td>5</td>\n",
       "      <td>181500</td>\n",
       "      <td>2007</td>\n",
       "      <td>1976</td>\n",
       "      <td>6</td>\n",
       "      <td>Normal</td>\n",
       "      <td>Y</td>\n",
       "      <td>460.0</td>\n",
       "      <td>12.109011</td>\n",
       "      <td>1</td>\n",
       "    </tr>\n",
       "    <tr>\n",
       "      <th>2841</th>\n",
       "      <td>9</td>\n",
       "      <td>83000</td>\n",
       "      <td>2006</td>\n",
       "      <td>1922</td>\n",
       "      <td>4</td>\n",
       "      <td>Abnorml</td>\n",
       "      <td>N</td>\n",
       "      <td>0.0</td>\n",
       "      <td>11.326596</td>\n",
       "      <td>0</td>\n",
       "    </tr>\n",
       "    <tr>\n",
       "      <th>1544</th>\n",
       "      <td>7</td>\n",
       "      <td>126000</td>\n",
       "      <td>2008</td>\n",
       "      <td>1926</td>\n",
       "      <td>6</td>\n",
       "      <td>Normal</td>\n",
       "      <td>Y</td>\n",
       "      <td>195.0</td>\n",
       "      <td>11.744037</td>\n",
       "      <td>1</td>\n",
       "    </tr>\n",
       "  </tbody>\n",
       "</table>\n",
       "<p>2343 rows × 10 columns</p>\n",
       "</div>"
      ],
      "text/plain": [
       "      Mo_Sold   price  Yr_Sold  Year_Built  Overall_Qual Sale_Condition  \\\n",
       "455         7  230000     2009        2007             7         Normal   \n",
       "1011        6  325000     2008        2005             9         Normal   \n",
       "1863        9  143450     2007        1968             6         Normal   \n",
       "1886        7  106500     2007        1959             5         Normal   \n",
       "1833        4  285000     2007        1992             8         Normal   \n",
       "...       ...     ...      ...         ...           ...            ...   \n",
       "1930        7  142000     2007        1953             5         Normal   \n",
       "79          2  194500     2010        1993             7         Normal   \n",
       "1859        5  181500     2007        1976             6         Normal   \n",
       "2841        9   83000     2006        1922             4        Abnorml   \n",
       "1544        7  126000     2008        1926             6         Normal   \n",
       "\n",
       "     Central_Air  Garage_Area  log_price  numer_air  \n",
       "455            Y        626.0  12.345835          1  \n",
       "1011           Y        656.0  12.691580          1  \n",
       "1863           Y        412.0  11.873742          1  \n",
       "1886           Y        294.0  11.575900          1  \n",
       "1833           Y        541.0  12.560244          1  \n",
       "...          ...          ...        ...        ...  \n",
       "1930           Y        336.0  11.863582          1  \n",
       "79             Y        457.0  12.178187          1  \n",
       "1859           Y        460.0  12.109011          1  \n",
       "2841           N          0.0  11.326596          0  \n",
       "1544           Y        195.0  11.744037          1  \n",
       "\n",
       "[2343 rows x 10 columns]"
      ]
     },
     "execution_count": 37,
     "metadata": {},
     "output_type": "execute_result"
    }
   ],
   "source": [
    "#Creating training and test dataset\n",
    "dfnew_train, dfnew_test = train_test_split(df_new, test_size = 0.2, random_state = 100)\n",
    "dfnew_train"
   ]
  },
  {
   "cell_type": "code",
   "execution_count": 38,
   "metadata": {},
   "outputs": [
    {
     "data": {
      "text/html": [
       "<div>\n",
       "<style scoped>\n",
       "    .dataframe tbody tr th:only-of-type {\n",
       "        vertical-align: middle;\n",
       "    }\n",
       "\n",
       "    .dataframe tbody tr th {\n",
       "        vertical-align: top;\n",
       "    }\n",
       "\n",
       "    .dataframe thead th {\n",
       "        text-align: right;\n",
       "    }\n",
       "</style>\n",
       "<table border=\"1\" class=\"dataframe\">\n",
       "  <thead>\n",
       "    <tr style=\"text-align: right;\">\n",
       "      <th></th>\n",
       "      <th>Mo_Sold</th>\n",
       "      <th>price</th>\n",
       "      <th>Yr_Sold</th>\n",
       "      <th>Year_Built</th>\n",
       "      <th>Overall_Qual</th>\n",
       "      <th>Sale_Condition</th>\n",
       "      <th>Central_Air</th>\n",
       "      <th>Garage_Area</th>\n",
       "      <th>log_price</th>\n",
       "      <th>numer_air</th>\n",
       "    </tr>\n",
       "  </thead>\n",
       "  <tbody>\n",
       "    <tr>\n",
       "      <th>134</th>\n",
       "      <td>1</td>\n",
       "      <td>178000</td>\n",
       "      <td>2010</td>\n",
       "      <td>1966</td>\n",
       "      <td>6</td>\n",
       "      <td>Normal</td>\n",
       "      <td>Y</td>\n",
       "      <td>315.0</td>\n",
       "      <td>12.089539</td>\n",
       "      <td>1</td>\n",
       "    </tr>\n",
       "    <tr>\n",
       "      <th>583</th>\n",
       "      <td>6</td>\n",
       "      <td>206000</td>\n",
       "      <td>2009</td>\n",
       "      <td>1974</td>\n",
       "      <td>7</td>\n",
       "      <td>Normal</td>\n",
       "      <td>Y</td>\n",
       "      <td>784.0</td>\n",
       "      <td>12.235631</td>\n",
       "      <td>1</td>\n",
       "    </tr>\n",
       "    <tr>\n",
       "      <th>1099</th>\n",
       "      <td>6</td>\n",
       "      <td>315000</td>\n",
       "      <td>2008</td>\n",
       "      <td>1998</td>\n",
       "      <td>8</td>\n",
       "      <td>Normal</td>\n",
       "      <td>Y</td>\n",
       "      <td>696.0</td>\n",
       "      <td>12.660328</td>\n",
       "      <td>1</td>\n",
       "    </tr>\n",
       "    <tr>\n",
       "      <th>1658</th>\n",
       "      <td>6</td>\n",
       "      <td>175000</td>\n",
       "      <td>2007</td>\n",
       "      <td>1968</td>\n",
       "      <td>6</td>\n",
       "      <td>Normal</td>\n",
       "      <td>Y</td>\n",
       "      <td>539.0</td>\n",
       "      <td>12.072541</td>\n",
       "      <td>1</td>\n",
       "    </tr>\n",
       "    <tr>\n",
       "      <th>773</th>\n",
       "      <td>6</td>\n",
       "      <td>149900</td>\n",
       "      <td>2009</td>\n",
       "      <td>1978</td>\n",
       "      <td>6</td>\n",
       "      <td>Normal</td>\n",
       "      <td>Y</td>\n",
       "      <td>504.0</td>\n",
       "      <td>11.917724</td>\n",
       "      <td>1</td>\n",
       "    </tr>\n",
       "    <tr>\n",
       "      <th>...</th>\n",
       "      <td>...</td>\n",
       "      <td>...</td>\n",
       "      <td>...</td>\n",
       "      <td>...</td>\n",
       "      <td>...</td>\n",
       "      <td>...</td>\n",
       "      <td>...</td>\n",
       "      <td>...</td>\n",
       "      <td>...</td>\n",
       "      <td>...</td>\n",
       "    </tr>\n",
       "    <tr>\n",
       "      <th>503</th>\n",
       "      <td>10</td>\n",
       "      <td>263550</td>\n",
       "      <td>2009</td>\n",
       "      <td>1993</td>\n",
       "      <td>8</td>\n",
       "      <td>Normal</td>\n",
       "      <td>Y</td>\n",
       "      <td>623.0</td>\n",
       "      <td>12.481998</td>\n",
       "      <td>1</td>\n",
       "    </tr>\n",
       "    <tr>\n",
       "      <th>1023</th>\n",
       "      <td>11</td>\n",
       "      <td>161000</td>\n",
       "      <td>2008</td>\n",
       "      <td>1976</td>\n",
       "      <td>6</td>\n",
       "      <td>Normal</td>\n",
       "      <td>Y</td>\n",
       "      <td>461.0</td>\n",
       "      <td>11.989160</td>\n",
       "      <td>1</td>\n",
       "    </tr>\n",
       "    <tr>\n",
       "      <th>1984</th>\n",
       "      <td>5</td>\n",
       "      <td>85000</td>\n",
       "      <td>2007</td>\n",
       "      <td>1900</td>\n",
       "      <td>4</td>\n",
       "      <td>Normal</td>\n",
       "      <td>N</td>\n",
       "      <td>252.0</td>\n",
       "      <td>11.350407</td>\n",
       "      <td>0</td>\n",
       "    </tr>\n",
       "    <tr>\n",
       "      <th>1187</th>\n",
       "      <td>10</td>\n",
       "      <td>150000</td>\n",
       "      <td>2008</td>\n",
       "      <td>1968</td>\n",
       "      <td>6</td>\n",
       "      <td>Family</td>\n",
       "      <td>Y</td>\n",
       "      <td>512.0</td>\n",
       "      <td>11.918391</td>\n",
       "      <td>1</td>\n",
       "    </tr>\n",
       "    <tr>\n",
       "      <th>469</th>\n",
       "      <td>5</td>\n",
       "      <td>175900</td>\n",
       "      <td>2009</td>\n",
       "      <td>2007</td>\n",
       "      <td>7</td>\n",
       "      <td>Normal</td>\n",
       "      <td>Y</td>\n",
       "      <td>660.0</td>\n",
       "      <td>12.077671</td>\n",
       "      <td>1</td>\n",
       "    </tr>\n",
       "  </tbody>\n",
       "</table>\n",
       "<p>586 rows × 10 columns</p>\n",
       "</div>"
      ],
      "text/plain": [
       "      Mo_Sold   price  Yr_Sold  Year_Built  Overall_Qual Sale_Condition  \\\n",
       "134         1  178000     2010        1966             6         Normal   \n",
       "583         6  206000     2009        1974             7         Normal   \n",
       "1099        6  315000     2008        1998             8         Normal   \n",
       "1658        6  175000     2007        1968             6         Normal   \n",
       "773         6  149900     2009        1978             6         Normal   \n",
       "...       ...     ...      ...         ...           ...            ...   \n",
       "503        10  263550     2009        1993             8         Normal   \n",
       "1023       11  161000     2008        1976             6         Normal   \n",
       "1984        5   85000     2007        1900             4         Normal   \n",
       "1187       10  150000     2008        1968             6         Family   \n",
       "469         5  175900     2009        2007             7         Normal   \n",
       "\n",
       "     Central_Air  Garage_Area  log_price  numer_air  \n",
       "134            Y        315.0  12.089539          1  \n",
       "583            Y        784.0  12.235631          1  \n",
       "1099           Y        696.0  12.660328          1  \n",
       "1658           Y        539.0  12.072541          1  \n",
       "773            Y        504.0  11.917724          1  \n",
       "...          ...          ...        ...        ...  \n",
       "503            Y        623.0  12.481998          1  \n",
       "1023           Y        461.0  11.989160          1  \n",
       "1984           N        252.0  11.350407          0  \n",
       "1187           Y        512.0  11.918391          1  \n",
       "469            Y        660.0  12.077671          1  \n",
       "\n",
       "[586 rows x 10 columns]"
      ]
     },
     "execution_count": 38,
     "metadata": {},
     "output_type": "execute_result"
    }
   ],
   "source": [
    "dfnew_test"
   ]
  },
  {
   "cell_type": "markdown",
   "metadata": {},
   "source": [
    "### Backward Elimination\n",
    "\n",
    "Next, starting with the full model, use a backwards elimination algorithm that seeks to find the model with the lowest AIC score. We will fit each model with training dataset."
   ]
  },
  {
   "cell_type": "code",
   "execution_count": 39,
   "metadata": {},
   "outputs": [
    {
     "name": "stdout",
     "output_type": "stream",
     "text": [
      "Optimization terminated successfully.\n",
      "         Current function value: 0.147280\n",
      "         Iterations 11\n"
     ]
    },
    {
     "data": {
      "text/plain": [
       "700.1537450392152"
      ]
     },
     "execution_count": 39,
     "metadata": {},
     "output_type": "execute_result"
    }
   ],
   "source": [
    "#Starting with full model.Setting full model = current model\n",
    "current_model = smf.logit('numer_air ~ Year_Built + Garage_Area + Yr_Sold + price', data = dfnew_train).fit()\n",
    "current_model.aic"
   ]
  },
  {
   "cell_type": "code",
   "execution_count": 40,
   "metadata": {},
   "outputs": [
    {
     "name": "stdout",
     "output_type": "stream",
     "text": [
      "Optimization terminated successfully.\n",
      "         Current function value: 0.163397\n",
      "         Iterations 10\n"
     ]
    },
    {
     "data": {
      "text/plain": [
       "773.6785549120447"
      ]
     },
     "execution_count": 40,
     "metadata": {},
     "output_type": "execute_result"
    }
   ],
   "source": [
    "#Delete the year built(Year_Built) variable\n",
    "test_mod = smf.logit('numer_air ~ Garage_Area + Yr_Sold + price', data = dfnew_train).fit()\n",
    "test_mod.aic"
   ]
  },
  {
   "cell_type": "code",
   "execution_count": 41,
   "metadata": {},
   "outputs": [
    {
     "name": "stdout",
     "output_type": "stream",
     "text": [
      "Optimization terminated successfully.\n",
      "         Current function value: 0.149772\n",
      "         Iterations 11\n"
     ]
    },
    {
     "data": {
      "text/plain": [
       "709.8319207777002"
      ]
     },
     "execution_count": 41,
     "metadata": {},
     "output_type": "execute_result"
    }
   ],
   "source": [
    "#Delete the size of garage(Garage_Area) variable\n",
    "test_mod = smf.logit('numer_air ~ Year_Built + Yr_Sold + price', data = dfnew_train).fit()\n",
    "test_mod.aic"
   ]
  },
  {
   "cell_type": "code",
   "execution_count": 42,
   "metadata": {},
   "outputs": [
    {
     "name": "stdout",
     "output_type": "stream",
     "text": [
      "Optimization terminated successfully.\n",
      "         Current function value: 0.147284\n",
      "         Iterations 9\n"
     ]
    },
    {
     "data": {
      "text/plain": [
       "698.1732280222712"
      ]
     },
     "execution_count": 42,
     "metadata": {},
     "output_type": "execute_result"
    }
   ],
   "source": [
    "#Delete the year sold(Yr_Sold) variable\n",
    "test_mod = smf.logit('numer_air ~ Year_Built + Garage_Area + price', data = dfnew_train).fit()\n",
    "test_mod.aic"
   ]
  },
  {
   "cell_type": "code",
   "execution_count": 43,
   "metadata": {},
   "outputs": [
    {
     "name": "stdout",
     "output_type": "stream",
     "text": [
      "Optimization terminated successfully.\n",
      "         Current function value: 0.166249\n",
      "         Iterations 10\n"
     ]
    },
    {
     "data": {
      "text/plain": [
       "787.0425404298459"
      ]
     },
     "execution_count": 43,
     "metadata": {},
     "output_type": "execute_result"
    }
   ],
   "source": [
    "#Delete the sale price(price) variable\n",
    "test_mod = smf.logit('numer_air ~ Year_Built + Garage_Area + Yr_Sold', data = dfnew_train).fit()\n",
    "test_mod.aic"
   ]
  },
  {
   "cell_type": "code",
   "execution_count": 44,
   "metadata": {
    "scrolled": true
   },
   "outputs": [
    {
     "name": "stdout",
     "output_type": "stream",
     "text": [
      "Optimization terminated successfully.\n",
      "         Current function value: 0.147284\n",
      "         Iterations 9\n"
     ]
    },
    {
     "data": {
      "text/plain": [
       "698.1732280222712"
      ]
     },
     "execution_count": 44,
     "metadata": {},
     "output_type": "execute_result"
    }
   ],
   "source": [
    "#Lowest aic is at the model without the year sold(Yr_Sold) variable. \n",
    "#Current model = model without the year sold(Yr_Sold) variable.\n",
    "current_mod = smf.logit('numer_air ~ Year_Built + Garage_Area + price', data = dfnew_train).fit()\n",
    "current_mod.aic"
   ]
  },
  {
   "cell_type": "code",
   "execution_count": 45,
   "metadata": {
    "scrolled": true
   },
   "outputs": [
    {
     "name": "stdout",
     "output_type": "stream",
     "text": [
      "Optimization terminated successfully.\n",
      "         Current function value: 0.163398\n",
      "         Iterations 9\n"
     ]
    },
    {
     "data": {
      "text/plain": [
       "771.6853042411369"
      ]
     },
     "execution_count": 45,
     "metadata": {},
     "output_type": "execute_result"
    }
   ],
   "source": [
    "#Delete the Year Built(Year_Built) variable\n",
    "test_mod = smf.logit('numer_air ~ Garage_Area + price', data = dfnew_train).fit()\n",
    "test_mod.aic"
   ]
  },
  {
   "cell_type": "code",
   "execution_count": 46,
   "metadata": {},
   "outputs": [
    {
     "name": "stdout",
     "output_type": "stream",
     "text": [
      "Optimization terminated successfully.\n",
      "         Current function value: 0.149776\n",
      "         Iterations 9\n"
     ]
    },
    {
     "data": {
      "text/plain": [
       "707.848489134353"
      ]
     },
     "execution_count": 46,
     "metadata": {},
     "output_type": "execute_result"
    }
   ],
   "source": [
    "#Delete the size of gaarge(Garage.Area) variable\n",
    "test_mod = smf.logit('numer_air ~ Year_Built + price', data = dfnew_train).fit()\n",
    "test_mod.aic"
   ]
  },
  {
   "cell_type": "code",
   "execution_count": 47,
   "metadata": {
    "scrolled": true
   },
   "outputs": [
    {
     "name": "stdout",
     "output_type": "stream",
     "text": [
      "Optimization terminated successfully.\n",
      "         Current function value: 0.166252\n",
      "         Iterations 9\n"
     ]
    },
    {
     "data": {
      "text/plain": [
       "785.0566954596227"
      ]
     },
     "execution_count": 47,
     "metadata": {},
     "output_type": "execute_result"
    }
   ],
   "source": [
    "#Delete the sale price(price) variable\n",
    "test_mod = smf.logit('numer_air ~ Year_Built + Garage_Area', data = dfnew_train).fit()\n",
    "test_mod.aic"
   ]
  },
  {
   "cell_type": "code",
   "execution_count": 48,
   "metadata": {},
   "outputs": [
    {
     "name": "stdout",
     "output_type": "stream",
     "text": [
      "Optimization terminated successfully.\n",
      "         Current function value: 0.147284\n",
      "         Iterations 9\n"
     ]
    },
    {
     "data": {
      "text/plain": [
       "698.1732280222712"
      ]
     },
     "execution_count": 48,
     "metadata": {},
     "output_type": "execute_result"
    }
   ],
   "source": [
    "#After deleting each varible from the current model, none of those models has lower aic score.\n",
    "#Therefore, the finla model wis the current model(without the year sold(Yr_sold))\n",
    "final_mod = smf.logit('numer_air ~ Year_Built + Garage_Area + price', data = dfnew_train).fit()\n",
    "final_mod.aic"
   ]
  },
  {
   "cell_type": "markdown",
   "metadata": {},
   "source": [
    "### Fitting final parsimonious logistic regression model with the training dataset"
   ]
  },
  {
   "cell_type": "code",
   "execution_count": 49,
   "metadata": {},
   "outputs": [
    {
     "name": "stdout",
     "output_type": "stream",
     "text": [
      "Optimization terminated successfully.\n",
      "         Current function value: 0.147284\n",
      "         Iterations 9\n"
     ]
    },
    {
     "data": {
      "text/html": [
       "<table class=\"simpletable\">\n",
       "<caption>Logit Regression Results</caption>\n",
       "<tr>\n",
       "  <th>Dep. Variable:</th>       <td>numer_air</td>    <th>  No. Observations:  </th>  <td>  2343</td>  \n",
       "</tr>\n",
       "<tr>\n",
       "  <th>Model:</th>                 <td>Logit</td>      <th>  Df Residuals:      </th>  <td>  2339</td>  \n",
       "</tr>\n",
       "<tr>\n",
       "  <th>Method:</th>                 <td>MLE</td>       <th>  Df Model:          </th>  <td>     3</td>  \n",
       "</tr>\n",
       "<tr>\n",
       "  <th>Date:</th>            <td>Tue, 07 Dec 2021</td> <th>  Pseudo R-squ.:     </th>  <td>0.3868</td>  \n",
       "</tr>\n",
       "<tr>\n",
       "  <th>Time:</th>                <td>19:58:39</td>     <th>  Log-Likelihood:    </th> <td> -345.09</td> \n",
       "</tr>\n",
       "<tr>\n",
       "  <th>converged:</th>             <td>True</td>       <th>  LL-Null:           </th> <td> -562.73</td> \n",
       "</tr>\n",
       "<tr>\n",
       "  <th>Covariance Type:</th>     <td>nonrobust</td>    <th>  LLR p-value:       </th> <td>5.044e-94</td>\n",
       "</tr>\n",
       "</table>\n",
       "<table class=\"simpletable\">\n",
       "<tr>\n",
       "       <td></td>          <th>coef</th>     <th>std err</th>      <th>z</th>      <th>P>|z|</th>  <th>[0.025</th>    <th>0.975]</th>  \n",
       "</tr>\n",
       "<tr>\n",
       "  <th>Intercept</th>   <td>  -71.3706</td> <td>    8.228</td> <td>   -8.674</td> <td> 0.000</td> <td>  -87.498</td> <td>  -55.243</td>\n",
       "</tr>\n",
       "<tr>\n",
       "  <th>Year_Built</th>  <td>    0.0356</td> <td>    0.004</td> <td>    8.336</td> <td> 0.000</td> <td>    0.027</td> <td>    0.044</td>\n",
       "</tr>\n",
       "<tr>\n",
       "  <th>Garage_Area</th> <td>    0.0018</td> <td>    0.001</td> <td>    3.331</td> <td> 0.001</td> <td>    0.001</td> <td>    0.003</td>\n",
       "</tr>\n",
       "<tr>\n",
       "  <th>price</th>       <td> 3.051e-05</td> <td> 3.65e-06</td> <td>    8.359</td> <td> 0.000</td> <td> 2.34e-05</td> <td> 3.77e-05</td>\n",
       "</tr>\n",
       "</table><br/><br/>Possibly complete quasi-separation: A fraction 0.12 of observations can be<br/>perfectly predicted. This might indicate that there is complete<br/>quasi-separation. In this case some parameters will not be identified."
      ],
      "text/plain": [
       "<class 'statsmodels.iolib.summary.Summary'>\n",
       "\"\"\"\n",
       "                           Logit Regression Results                           \n",
       "==============================================================================\n",
       "Dep. Variable:              numer_air   No. Observations:                 2343\n",
       "Model:                          Logit   Df Residuals:                     2339\n",
       "Method:                           MLE   Df Model:                            3\n",
       "Date:                Tue, 07 Dec 2021   Pseudo R-squ.:                  0.3868\n",
       "Time:                        19:58:39   Log-Likelihood:                -345.09\n",
       "converged:                       True   LL-Null:                       -562.73\n",
       "Covariance Type:            nonrobust   LLR p-value:                 5.044e-94\n",
       "===============================================================================\n",
       "                  coef    std err          z      P>|z|      [0.025      0.975]\n",
       "-------------------------------------------------------------------------------\n",
       "Intercept     -71.3706      8.228     -8.674      0.000     -87.498     -55.243\n",
       "Year_Built      0.0356      0.004      8.336      0.000       0.027       0.044\n",
       "Garage_Area     0.0018      0.001      3.331      0.001       0.001       0.003\n",
       "price        3.051e-05   3.65e-06      8.359      0.000    2.34e-05    3.77e-05\n",
       "===============================================================================\n",
       "\n",
       "Possibly complete quasi-separation: A fraction 0.12 of observations can be\n",
       "perfectly predicted. This might indicate that there is complete\n",
       "quasi-separation. In this case some parameters will not be identified.\n",
       "\"\"\""
      ]
     },
     "execution_count": 49,
     "metadata": {},
     "output_type": "execute_result"
    }
   ],
   "source": [
    "final_mod = smf.logit('numer_air ~ Year_Built + Garage_Area + price', data = dfnew_train).fit()\n",
    "final_mod.summary()"
   ]
  },
  {
   "cell_type": "markdown",
   "metadata": {},
   "source": [
    "$\\hat{numer\\_air}$ = -71.3706 + 0.0356Year_Built + 0.0018Garage_Area + $3.051 * 10 ^ {- 5}$price"
   ]
  },
  {
   "cell_type": "markdown",
   "metadata": {},
   "source": [
    "### Hypothesis Testing for the Population Slopes\n",
    "Next, we would like to test if we have enough evidence to suggest that is there any slope in the final model are non-zero?"
   ]
  },
  {
   "cell_type": "markdown",
   "metadata": {},
   "source": [
    "#### Hypothesis\n",
    "First, we set up the hypothesis tests for this hypothesis test for each slope.\n",
    "\n",
    "1. $H_0: \\beta_1 = 0;$ $H_A: \\beta_1 \\neq 0$\n",
    "\n",
    "2. $H_0: \\beta_2 = 0;$ $H_A: \\beta_2 \\neq 0$\n",
    "\n",
    "3. $H_0: \\beta_3 = 0;$ $H_A: \\beta_3 \\neq 0$\n",
    "\n",
    "\n",
    "where \n",
    " - $\\beta_1$ = the population slope corresponding to the Year_Built\n",
    " - $\\beta_2$ = the population slope corresponding to the Garage_Area\n",
    " - $\\beta_3$ = the population slope corresponding to the price\n",
    "\n"
   ]
  },
  {
   "cell_type": "markdown",
   "metadata": {},
   "source": [
    "#### Test statistics and p-value\n",
    "\n",
    "From the summary output table, the test statistics and p-value for each slope are displayed below:"
   ]
  },
  {
   "cell_type": "code",
   "execution_count": 50,
   "metadata": {
    "scrolled": true
   },
   "outputs": [
    {
     "data": {
      "text/html": [
       "<table class=\"simpletable\">\n",
       "<caption>Logit Regression Results</caption>\n",
       "<tr>\n",
       "  <th>Dep. Variable:</th>       <td>numer_air</td>    <th>  No. Observations:  </th>  <td>  2343</td>  \n",
       "</tr>\n",
       "<tr>\n",
       "  <th>Model:</th>                 <td>Logit</td>      <th>  Df Residuals:      </th>  <td>  2339</td>  \n",
       "</tr>\n",
       "<tr>\n",
       "  <th>Method:</th>                 <td>MLE</td>       <th>  Df Model:          </th>  <td>     3</td>  \n",
       "</tr>\n",
       "<tr>\n",
       "  <th>Date:</th>            <td>Tue, 07 Dec 2021</td> <th>  Pseudo R-squ.:     </th>  <td>0.3868</td>  \n",
       "</tr>\n",
       "<tr>\n",
       "  <th>Time:</th>                <td>19:58:39</td>     <th>  Log-Likelihood:    </th> <td> -345.09</td> \n",
       "</tr>\n",
       "<tr>\n",
       "  <th>converged:</th>             <td>True</td>       <th>  LL-Null:           </th> <td> -562.73</td> \n",
       "</tr>\n",
       "<tr>\n",
       "  <th>Covariance Type:</th>     <td>nonrobust</td>    <th>  LLR p-value:       </th> <td>5.044e-94</td>\n",
       "</tr>\n",
       "</table>\n",
       "<table class=\"simpletable\">\n",
       "<tr>\n",
       "       <td></td>          <th>coef</th>     <th>std err</th>      <th>z</th>      <th>P>|z|</th>  <th>[0.025</th>    <th>0.975]</th>  \n",
       "</tr>\n",
       "<tr>\n",
       "  <th>Intercept</th>   <td>  -71.3706</td> <td>    8.228</td> <td>   -8.674</td> <td> 0.000</td> <td>  -87.498</td> <td>  -55.243</td>\n",
       "</tr>\n",
       "<tr>\n",
       "  <th>Year_Built</th>  <td>    0.0356</td> <td>    0.004</td> <td>    8.336</td> <td> 0.000</td> <td>    0.027</td> <td>    0.044</td>\n",
       "</tr>\n",
       "<tr>\n",
       "  <th>Garage_Area</th> <td>    0.0018</td> <td>    0.001</td> <td>    3.331</td> <td> 0.001</td> <td>    0.001</td> <td>    0.003</td>\n",
       "</tr>\n",
       "<tr>\n",
       "  <th>price</th>       <td> 3.051e-05</td> <td> 3.65e-06</td> <td>    8.359</td> <td> 0.000</td> <td> 2.34e-05</td> <td> 3.77e-05</td>\n",
       "</tr>\n",
       "</table><br/><br/>Possibly complete quasi-separation: A fraction 0.12 of observations can be<br/>perfectly predicted. This might indicate that there is complete<br/>quasi-separation. In this case some parameters will not be identified."
      ],
      "text/plain": [
       "<class 'statsmodels.iolib.summary.Summary'>\n",
       "\"\"\"\n",
       "                           Logit Regression Results                           \n",
       "==============================================================================\n",
       "Dep. Variable:              numer_air   No. Observations:                 2343\n",
       "Model:                          Logit   Df Residuals:                     2339\n",
       "Method:                           MLE   Df Model:                            3\n",
       "Date:                Tue, 07 Dec 2021   Pseudo R-squ.:                  0.3868\n",
       "Time:                        19:58:39   Log-Likelihood:                -345.09\n",
       "converged:                       True   LL-Null:                       -562.73\n",
       "Covariance Type:            nonrobust   LLR p-value:                 5.044e-94\n",
       "===============================================================================\n",
       "                  coef    std err          z      P>|z|      [0.025      0.975]\n",
       "-------------------------------------------------------------------------------\n",
       "Intercept     -71.3706      8.228     -8.674      0.000     -87.498     -55.243\n",
       "Year_Built      0.0356      0.004      8.336      0.000       0.027       0.044\n",
       "Garage_Area     0.0018      0.001      3.331      0.001       0.001       0.003\n",
       "price        3.051e-05   3.65e-06      8.359      0.000    2.34e-05    3.77e-05\n",
       "===============================================================================\n",
       "\n",
       "Possibly complete quasi-separation: A fraction 0.12 of observations can be\n",
       "perfectly predicted. This might indicate that there is complete\n",
       "quasi-separation. In this case some parameters will not be identified.\n",
       "\"\"\""
      ]
     },
     "execution_count": 50,
     "metadata": {},
     "output_type": "execute_result"
    }
   ],
   "source": [
    "final_mod.summary()"
   ]
  },
  {
   "cell_type": "markdown",
   "metadata": {},
   "source": [
    "#### Conclusion\n",
    "\n",
    "Using a significant level $\\alpha = 0.05$:\n",
    "\n",
    "For hypothesis test 1($\\beta_1$): Because the p-value = 0.434 $< \\alpha = 0.05$, we reject the null hypothesis.\n",
    "\n",
    "For hypothesis test 2($\\beta_2$): Because the p-value = 0.013 $< \\alpha = 0.05$, we reject the null hypothesis.\n",
    "\n",
    "For hypothesis test 3($\\beta_3$): Because the p-value = 0.118 $< \\alpha = 0.05$, we reject the null hypothesis.\n",
    "\n",
    "\n",
    "Therefore, the slopes of Year_Built, Garage_Area, and price have sufficient evidence to suggest that they are non-zero in the model."
   ]
  },
  {
   "cell_type": "markdown",
   "metadata": {},
   "source": [
    "### ROC and AUC of the Model\n",
    "\n",
    "Next, we would like to create a ROC curve and calculateing the AUC for the logistic regression model, using the test dataset."
   ]
  },
  {
   "cell_type": "code",
   "execution_count": 51,
   "metadata": {
    "scrolled": true
   },
   "outputs": [
    {
     "name": "stderr",
     "output_type": "stream",
     "text": [
      "<ipython-input-51-110d4a5d3617>:1: SettingWithCopyWarning: \n",
      "A value is trying to be set on a copy of a slice from a DataFrame.\n",
      "Try using .loc[row_indexer,col_indexer] = value instead\n",
      "\n",
      "See the caveats in the documentation: https://pandas.pydata.org/pandas-docs/stable/user_guide/indexing.html#returning-a-view-versus-a-copy\n",
      "  dfnew_test['phat_test'] = final_mod.predict(exog = dfnew_test)\n"
     ]
    },
    {
     "data": {
      "text/html": [
       "<div>\n",
       "<style scoped>\n",
       "    .dataframe tbody tr th:only-of-type {\n",
       "        vertical-align: middle;\n",
       "    }\n",
       "\n",
       "    .dataframe tbody tr th {\n",
       "        vertical-align: top;\n",
       "    }\n",
       "\n",
       "    .dataframe thead th {\n",
       "        text-align: right;\n",
       "    }\n",
       "</style>\n",
       "<table border=\"1\" class=\"dataframe\">\n",
       "  <thead>\n",
       "    <tr style=\"text-align: right;\">\n",
       "      <th></th>\n",
       "      <th>Mo_Sold</th>\n",
       "      <th>price</th>\n",
       "      <th>Yr_Sold</th>\n",
       "      <th>Year_Built</th>\n",
       "      <th>Overall_Qual</th>\n",
       "      <th>Sale_Condition</th>\n",
       "      <th>Central_Air</th>\n",
       "      <th>Garage_Area</th>\n",
       "      <th>log_price</th>\n",
       "      <th>numer_air</th>\n",
       "      <th>phat_test</th>\n",
       "    </tr>\n",
       "  </thead>\n",
       "  <tbody>\n",
       "    <tr>\n",
       "      <th>134</th>\n",
       "      <td>1</td>\n",
       "      <td>178000</td>\n",
       "      <td>2010</td>\n",
       "      <td>1966</td>\n",
       "      <td>6</td>\n",
       "      <td>Normal</td>\n",
       "      <td>Y</td>\n",
       "      <td>315.0</td>\n",
       "      <td>12.089539</td>\n",
       "      <td>1</td>\n",
       "      <td>0.990834</td>\n",
       "    </tr>\n",
       "    <tr>\n",
       "      <th>583</th>\n",
       "      <td>6</td>\n",
       "      <td>206000</td>\n",
       "      <td>2009</td>\n",
       "      <td>1974</td>\n",
       "      <td>7</td>\n",
       "      <td>Normal</td>\n",
       "      <td>Y</td>\n",
       "      <td>784.0</td>\n",
       "      <td>12.235631</td>\n",
       "      <td>1</td>\n",
       "      <td>0.998755</td>\n",
       "    </tr>\n",
       "    <tr>\n",
       "      <th>1099</th>\n",
       "      <td>6</td>\n",
       "      <td>315000</td>\n",
       "      <td>2008</td>\n",
       "      <td>1998</td>\n",
       "      <td>8</td>\n",
       "      <td>Normal</td>\n",
       "      <td>Y</td>\n",
       "      <td>696.0</td>\n",
       "      <td>12.660328</td>\n",
       "      <td>1</td>\n",
       "      <td>0.999978</td>\n",
       "    </tr>\n",
       "    <tr>\n",
       "      <th>1658</th>\n",
       "      <td>6</td>\n",
       "      <td>175000</td>\n",
       "      <td>2007</td>\n",
       "      <td>1968</td>\n",
       "      <td>6</td>\n",
       "      <td>Normal</td>\n",
       "      <td>Y</td>\n",
       "      <td>539.0</td>\n",
       "      <td>12.072541</td>\n",
       "      <td>1</td>\n",
       "      <td>0.993792</td>\n",
       "    </tr>\n",
       "    <tr>\n",
       "      <th>773</th>\n",
       "      <td>6</td>\n",
       "      <td>149900</td>\n",
       "      <td>2009</td>\n",
       "      <td>1978</td>\n",
       "      <td>6</td>\n",
       "      <td>Normal</td>\n",
       "      <td>Y</td>\n",
       "      <td>504.0</td>\n",
       "      <td>11.917724</td>\n",
       "      <td>1</td>\n",
       "      <td>0.990064</td>\n",
       "    </tr>\n",
       "  </tbody>\n",
       "</table>\n",
       "</div>"
      ],
      "text/plain": [
       "      Mo_Sold   price  Yr_Sold  Year_Built  Overall_Qual Sale_Condition  \\\n",
       "134         1  178000     2010        1966             6         Normal   \n",
       "583         6  206000     2009        1974             7         Normal   \n",
       "1099        6  315000     2008        1998             8         Normal   \n",
       "1658        6  175000     2007        1968             6         Normal   \n",
       "773         6  149900     2009        1978             6         Normal   \n",
       "\n",
       "     Central_Air  Garage_Area  log_price  numer_air  phat_test  \n",
       "134            Y        315.0  12.089539          1   0.990834  \n",
       "583            Y        784.0  12.235631          1   0.998755  \n",
       "1099           Y        696.0  12.660328          1   0.999978  \n",
       "1658           Y        539.0  12.072541          1   0.993792  \n",
       "773            Y        504.0  11.917724          1   0.990064  "
      ]
     },
     "execution_count": 51,
     "metadata": {},
     "output_type": "execute_result"
    }
   ],
   "source": [
    "dfnew_test['phat_test'] = final_mod.predict(exog = dfnew_test)\n",
    "dfnew_test.head()"
   ]
  },
  {
   "cell_type": "code",
   "execution_count": 52,
   "metadata": {},
   "outputs": [],
   "source": [
    "#Creating fpr, tpr, score, and auc\n",
    "fpr_final_mod, tpr_final_mod, score_final_mod = roc_curve(y_true = dfnew_test['numer_air'], y_score = dfnew_test['phat_test'])\n",
    "auc_final_mod = roc_auc_score(y_true = dfnew_test['numer_air'], y_score = dfnew_test['phat_test'])"
   ]
  },
  {
   "cell_type": "code",
   "execution_count": 53,
   "metadata": {},
   "outputs": [],
   "source": [
    "#function \n",
    "def plot_roc(fpr, tpr, auc, lw=2):\n",
    "    plt.plot(fpr, tpr, color='darkorange', lw=lw,\n",
    "             label='ROC curve (area = '+str(round(auc,3))+')')\n",
    "    plt.plot([0, 1], [0, 1], color='navy', lw=lw, linestyle='--')\n",
    "    plt.xlabel('False Positive Rate')\n",
    "    plt.ylabel('True Positive Rate')\n",
    "    plt.title('ROC Curve')\n",
    "    plt.legend(loc=\"lower right\")\n",
    "    plt.show()"
   ]
  },
  {
   "cell_type": "code",
   "execution_count": 54,
   "metadata": {
    "scrolled": true
   },
   "outputs": [
    {
     "data": {
      "image/png": "[encoded data removed]",
      "text/plain": [
       "<Figure size 432x288 with 1 Axes>"
      ]
     },
     "metadata": {},
     "output_type": "display_data"
    }
   ],
   "source": [
    "#Plot and display ROC and AUC\n",
    "plot_roc(fpr_final_mod, tpr_final_mod, auc_final_mod)"
   ]
  },
  {
   "cell_type": "markdown",
   "metadata": {},
   "source": [
    "### Predictive Probability Threshold Selection\n",
    "Ideally, we would choose the predictive probability threshold that has the false positive rate of 0 and true positive rate of 1. \n",
    "\n",
    "From the ROC curve, the good predictive probability threshold is the one that is close to the ideal predictive probability threshold(FPR = 0, TPR = 1). Therefore, We will choose predictive probability threshold correpsonds to the TPR = 0.83 and FPR = 0.04 because we want the classify many residential homes that have central air conditioning as possible(high tpr) and avoid giving wrong suggestions about central air conditioning to customers(low fpr). Furthermore, there would be less penalty for giving wrong suggestions because when people are looking for homes, they would look at many different places which the provider can give them more options."
   ]
  },
  {
   "cell_type": "markdown",
   "metadata": {},
   "source": [
    "## Logistic Regression Analysis and the Research Question.\n",
    "Logistic regression analysis helps us find the parsimonious model which determine which explanatory variables should be included in the model in order to predict the log-odds of the success level of the Central Air Conditioning(Central_Air) based on the interested variables we have which are the Year Built(Year_Built), the Size of Garage(Garage_Area), the Year Sold(Yr_Sold), and the Sale Price(price). From the analysis, we found that the final parsimonious model does not include the Year Sold(Yr_Sold) variable. Furthermore, the final model would be able to make a better prediction for new datasets.\n",
    "\n",
    "As the residential house hunter, when the customers request the house with central air conditioning as the main interest, you would be able to make the prediction whether the house has the central conditioning or not based on these explanatory variables: Year_Built, Garage_Area, price. Furtermore, after the ROC and AUC from this final model with test dataset shows that the model can identify many residential homes with central conditioning(TPR = 0.83), even though it also wrongly identifies some homes as having central air conditioning(FPR = 0.04). Wrongly identify homes with central air conditioning might reduce the credibitlty of house hunter; however, it could be mitigate by providing many options towards customers. "
   ]
  },
  {
   "cell_type": "markdown",
   "metadata": {},
   "source": [
    "## 6. Conclusion"
   ]
  },
  {
   "cell_type": "markdown",
   "metadata": {},
   "source": [
    "### Summarization\n",
    "After conducting all four research questions, the findings are as following:\n",
    "- Question 1: What is the relationship between the Month Sold(Mo.Sold) and the Sale Price(price) in this Ames, Iwoa Housing Dataset(ames.csv)? And furthermore, how does this relationship between the Month Sold(Mo_Sold) and the Sale Price(price) change for different values of Overall Quality(Overall_Qual)?\n",
    "    - There’s a positive relationship between house prcing and the overall quality. Most of price of the houses are not affected by which month it was sold. Houses which have extreme high quality is more likely to be sold in higher price in earlier months; conversely, houses which have extreme low quality(1) is more likely to be sold in higher price in later months.\n",
    "\n",
    "\n",
    "\n",
    "- Question 2: Is there an association between the Central air condition(Central_Air) and the Year Built(Year_Built) in all residential homes in Ames, Iwoa?\n",
    "    - There is a strong association between whether the house has air condition and the it was built in all residential homes in Ames, lwoa.\n",
    "    \n",
    "    \n",
    "    \n",
    "- Question 3: Is there a linear relationship between the Sale Price(price) and the Overall Quality(Overall_Qual), the Condition of sale (Sale_Condition), the Central air condition(Central_Air), and the Year Built(Year_Built) in the sample? What about in the all residential homes in Ames, Iwoa?\n",
    "    - There is a linear relationship between the Sale Price(price) and the Overall Quality(Overall.Qual), the Condition of Sale (Sale_Condition), and the Central Air Conditioning(Central_Air) in the sample. The Year Built(Year_Bult) is not included in the linear relationship because it creates the multicollinearity with other variables. The model created based on this relationship has a high precent of variablity(R^2) which could have good prediction for all residential homes in Ames, Iowa.\n",
    "    \n",
    "    \n",
    "    \n",
    "- Question 4: Is there a linear relationship between the log-odds of the success level of the Central air condition(Central_Air) and the Year Built(Year_Built), the Size of Garage(Garage_Area), the Year Sold(Yr_Sold), and the Sale Price(price) in the sample? What about the all residential homes in Ames, Iwoa? What explanatory variables should we include in the model to build a parsimonious model?\n",
    "    - There is a linear relationship between the log-odds of the success level of the Central air condition(Central_Air) and the Year Built(Year_Built), the Size of Garage(Garage_Area), and the Sale Price(price) in the sample. The Year Sold(Yr_Sold) variables is deleted from the relationship and the model to make the model more parsimonious (lowest AIC socre). The model  can identify 83% of the residential homes with central air conditiong and falsely identify 4% of residential homes with central air conditioning based on the test dataset. This testing means that the model could identify a high number of homes with central air conditioning and have small false idntification in all residential homes in Ames, Iowa."
   ]
  },
  {
   "cell_type": "markdown",
   "metadata": {},
   "source": [
    "### Future Work\n",
    "\n",
    "For future work based on these analyses, the research questions could included more explanatory variables that might influence the interested responsive variables. Furthermore, these analyses mainly focus on the sale price and the central air conditioning which tries to satisfy the request from customers. The further work could also focus on other variables such as the Overall Quality which usually be a potential criteria of customer's preferences. Thse analyses could also extends to the building construction field where the architectures and the real estate come together to determine which explanatory variables could the a potential consideration when they are planning to build residential homes in Ames, Iowa."
   ]
  }
 ],
 "metadata": {
  "kernelspec": {
   "display_name": "Python 3",
   "language": "python",
   "name": "python3"
  },
  "language_info": {
   "codemirror_mode": {
    "name": "ipython",
    "version": 3
   },
   "file_extension": ".py",
   "mimetype": "text/x-python",
   "name": "python",
   "nbconvert_exporter": "python",
   "pygments_lexer": "ipython3",
   "version": "3.8.3"
  }
 },
 "nbformat": 4,
 "nbformat_minor": 4
}
